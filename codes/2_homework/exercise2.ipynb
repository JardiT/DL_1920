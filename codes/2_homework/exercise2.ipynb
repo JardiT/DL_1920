{
  "nbformat": 4,
  "nbformat_minor": 0,
  "metadata": {
    "colab": {
      "name": "Untitled0.ipynb",
      "provenance": [],
      "authorship_tag": "ABX9TyN047ci+UGQO4JI74OP2O/c",
      "include_colab_link": true
    },
    "kernelspec": {
      "name": "python3",
      "display_name": "Python 3"
    },
    "accelerator": "GPU"
  },
  "cells": [
    {
      "cell_type": "markdown",
      "metadata": {
        "id": "view-in-github",
        "colab_type": "text"
      },
      "source": [
        "<a href=\"https://colab.research.google.com/github/JardiT/DL_1920/blob/master/codes/2_homework/exercise2.ipynb\" target=\"_parent\"><img src=\"https://colab.research.google.com/assets/colab-badge.svg\" alt=\"Open In Colab\"/></a>"
      ]
    },
    {
      "cell_type": "markdown",
      "metadata": {
        "id": "rtVnFu0N3Pip"
      },
      "source": [
        "# Hand-in 2\n",
        "\n",
        "## Exercise 2"
      ]
    },
    {
      "cell_type": "code",
      "metadata": {
        "id": "2iBhEmUX3Pis"
      },
      "source": [
        "import torch\n",
        "import torch.nn as nn\n",
        "import torch.nn.functional as F\n",
        "import torch.optim as optim\n",
        "import time\n",
        "import copy\n",
        "\n",
        "import torchvision.datasets\n",
        "import torchvision.transforms as transforms\n",
        "\n",
        "import numpy as np\n",
        "import matplotlib.pyplot as plt\n",
        "%matplotlib inline"
      ],
      "execution_count": 1,
      "outputs": []
    },
    {
      "cell_type": "code",
      "metadata": {
        "colab": {
          "base_uri": "https://localhost:8080/"
        },
        "id": "Q2pjyvOQIGLr",
        "outputId": "60516d0e-3624-4e51-8e7a-3e1a1676d852"
      },
      "source": [
        "# Choose which device to use\n",
        "use_cuda = True\n",
        "\n",
        "if use_cuda and torch.cuda.is_available():\n",
        "  device = torch.device('cuda')\n",
        "else:\n",
        "  device = torch.device('cpu')\n",
        "\n",
        "device"
      ],
      "execution_count": 2,
      "outputs": [
        {
          "output_type": "execute_result",
          "data": {
            "text/plain": [
              "device(type='cuda')"
            ]
          },
          "metadata": {
            "tags": []
          },
          "execution_count": 2
        }
      ]
    },
    {
      "cell_type": "markdown",
      "metadata": {
        "id": "WxQqOeeH3Piu"
      },
      "source": [
        "### Download the data"
      ]
    },
    {
      "cell_type": "code",
      "metadata": {
        "id": "f4puS9VF3Piv"
      },
      "source": [
        "# Apply transformations to the data points before passing them to the network\n",
        "transform = transforms.Compose([transforms.ToTensor(),  # Transform the data to torch tensors of shape (28, 28, 1), corresponding to 28 * 28 pixels with 1 channel (1 value per pixel that is)\n",
        "                                transforms.Normalize((0.1307,), (0.3081,)),  # Normalize the images (mean and std for MNIST dataset found online)\n",
        "                                ])\n",
        "\n",
        "# Download the MNIST train dataset (used to train the network)\n",
        "trainset = torchvision.datasets.MNIST(root='./data_mnist',\n",
        "                                      train=True,\n",
        "                                      download=True,\n",
        "                                      transform=transform  # Apply the defined transformation on the data\n",
        "                                      )\n",
        "\n",
        "# Download the MNIST test dataset (used to evaluate the trained network)\n",
        "testset = torchvision.datasets.MNIST(root='./data_mnist',\n",
        "                                     train=False,\n",
        "                                     download=True,\n",
        "                                     transform=transform\n",
        "                                     )\n",
        "\n",
        "batch_size = 128\n",
        "w, h = 28, 28  # Width, Height\n",
        "k = 10  # Number of output classes\n",
        "\n",
        "trainloader = torch.utils.data.DataLoader(trainset,\n",
        "                                          batch_size=batch_size,\n",
        "                                          shuffle=True,  # Shuffle the dataset for random ordering of train samples\n",
        "                                          )\n",
        "\n",
        "testloader = torch.utils.data.DataLoader(testset,\n",
        "                                         batch_size=batch_size,\n",
        "                                         shuffle=True,\n",
        "                                         )\n",
        "\n"
      ],
      "execution_count": 3,
      "outputs": []
    },
    {
      "cell_type": "markdown",
      "metadata": {
        "id": "n9poheSG3Pix"
      },
      "source": [
        "### Defining the MLP architecture"
      ]
    },
    {
      "cell_type": "code",
      "metadata": {
        "id": "gjlcWQAq3Piy"
      },
      "source": [
        "class MLP(nn.Module):\n",
        "  def __init__(self,\n",
        "               input_size,  # Size of the input. Here we will first flatten the image to a single vector with the 3 * 32 * 32 values in the image \n",
        "               layer_sizes,  # A tuple containing the sizes of the hidden layers of the neural network. So to create a NN with two hidden layers with 32 neurons in each layer you'd set layer_sizes=(32,32)\n",
        "               output_size):  # The size of the network output. CIFAR10 has 10 output classes\n",
        "    super(MLP, self).__init__()\n",
        "    shape = (input_size,) + tuple(layer_sizes) + (output_size,)\n",
        "    self.layers = nn.ModuleList([nn.Linear(shape[i], shape[i + 1]) for i in range(len(shape) - 1)])  # Store the layers in a ModuleList object so they are recognized by pytorch as submodules of this model\n",
        "\n",
        "  def forward(self, x):\n",
        "    for layer in self.layers[:-1]:  # Apply relu activation to all but the last layer in the network\n",
        "      x = F.relu(layer(x))\n",
        "    return self.layers[-1](x)"
      ],
      "execution_count": 4,
      "outputs": []
    },
    {
      "cell_type": "markdown",
      "metadata": {
        "id": "yToLPrjwfSQD"
      },
      "source": [
        "## Exercise 2a\n",
        "We use a network with 2 layers."
      ]
    },
    {
      "cell_type": "markdown",
      "metadata": {
        "id": "AITuDE5r3Pi5"
      },
      "source": [
        "### Defining a train function"
      ]
    },
    {
      "cell_type": "code",
      "metadata": {
        "id": "H8LpttCP3Pi6"
      },
      "source": [
        "def train(net, optimizer, num_epochs):\n",
        "  test_acc = np.zeros(num_epochs+1)\n",
        "  # Evaluate the untrained model on the test set\n",
        "  correct_total = 0\n",
        "  for i, (x_batch, y_batch) in enumerate(testloader):\n",
        "    x_batch, y_batch = x_batch.to(device), y_batch.to(device)  # Move the data to the device that is used\n",
        "\n",
        "    y_pred = net(x_batch.view(-1, w * h))\n",
        "    y_pred_max = torch.argmax(y_pred, dim=1)\n",
        "\n",
        "    correct_total += torch.sum(torch.eq(y_pred_max, y_batch)).item()\n",
        "\n",
        "  test_acc[0] = correct_total / len(testset.data)\n",
        "  print(f'epoch: {0}, time: {0:.3f}s, Test accuracy: {test_acc[0]:.3f}')\n",
        "\n",
        "  start = time.time()\n",
        "  for epoch in range(1, num_epochs + 1):\n",
        "    # Iterate through the entire train set\n",
        "    for i, (x_batch, y_batch) in enumerate(trainloader):\n",
        "      x_batch, y_batch = x_batch.to(device), y_batch.to(device)  # Move the data to the device that is used\n",
        "\n",
        "      optimizer.zero_grad()  # Set all currenly stored gradients to zero \n",
        "\n",
        "      y_pred = net(x_batch.view(-1, w * h))\n",
        "\n",
        "      loss = criterion(y_pred, y_batch)\n",
        "\n",
        "      loss.backward()\n",
        "\n",
        "      optimizer.step()\n",
        "\n",
        "      # Compute relevant metrics\n",
        "          \n",
        "      y_pred_max = torch.argmax(y_pred, dim=1)  # Get the labels with highest output probability\n",
        "\n",
        "      correct = torch.sum(torch.eq(y_pred_max, y_batch)).item()  # Count how many are equal to the true labels\n",
        "\n",
        "      elapsed = time.time() - start  # Keep track of how much time has elapsed\n",
        "      \n",
        "    # Evaluate the model on the test set\n",
        "    correct_total = 0\n",
        "    for i, (x_batch, y_batch) in enumerate(testloader):\n",
        "      x_batch, y_batch = x_batch.to(device), y_batch.to(device)  # Move the data to the device that is used\n",
        "\n",
        "      y_pred = net(x_batch.view(-1, w * h))\n",
        "      y_pred_max = torch.argmax(y_pred, dim=1)\n",
        "\n",
        "      correct_total += torch.sum(torch.eq(y_pred_max, y_batch)).item()\n",
        "\n",
        "    test_acc[epoch] = correct_total / len(testset.data)\n",
        "    print(f'epoch: {epoch}, time: {elapsed:.3f}s, Test accuracy: {test_acc[epoch]:.3f}')\n",
        "  \n",
        "  return test_acc"
      ],
      "execution_count": 5,
      "outputs": []
    },
    {
      "cell_type": "markdown",
      "metadata": {
        "id": "TzPiVKDh3Pi3"
      },
      "source": [
        "### Define the net, criterion and optimizers"
      ]
    },
    {
      "cell_type": "code",
      "metadata": {
        "id": "EkrRGOi53Pi0",
        "colab": {
          "base_uri": "https://localhost:8080/"
        },
        "outputId": "29edbc76-4520-43f7-a15f-4cba3171e698"
      },
      "source": [
        "netSGD = MLP(w * h, (128, 128), k).to(device)  # Create a new dense neural network with two hidden layers of size 128\n",
        "\n",
        "print(netSGD)\n",
        "\n",
        "netAdam = copy.deepcopy(netSGD) # Deepcopym net so that they have the same initialisation; that is a better comparison!"
      ],
      "execution_count": 6,
      "outputs": [
        {
          "output_type": "stream",
          "text": [
            "MLP(\n",
            "  (layers): ModuleList(\n",
            "    (0): Linear(in_features=784, out_features=128, bias=True)\n",
            "    (1): Linear(in_features=128, out_features=128, bias=True)\n",
            "    (2): Linear(in_features=128, out_features=10, bias=True)\n",
            "  )\n",
            ")\n"
          ],
          "name": "stdout"
        }
      ]
    },
    {
      "cell_type": "code",
      "metadata": {
        "id": "z0a70KQd3Pi3"
      },
      "source": [
        "criterion = nn.CrossEntropyLoss()\n",
        "\n",
        "optimizerSGD = torch.optim.SGD(netSGD.parameters() , lr=0.01)\n",
        "optimizerAdam = torch.optim.Adam(netAdam.parameters(), lr=0.001, betas=(0.9,0.999), eps=1e-08)"
      ],
      "execution_count": 7,
      "outputs": []
    },
    {
      "cell_type": "markdown",
      "metadata": {
        "id": "QxtbJTCy3Pi_"
      },
      "source": [
        "\n",
        "### Train network with SGD and Adam"
      ]
    },
    {
      "cell_type": "code",
      "metadata": {
        "id": "E5ENyRVp3PjA",
        "colab": {
          "base_uri": "https://localhost:8080/"
        },
        "outputId": "b807564a-743e-492d-89e3-aa1aee4ba66e"
      },
      "source": [
        "num_epochs = 25\n",
        "epochs = np.arange(0,num_epochs+1)\n",
        "\n",
        "test_acc_SGD = train(netSGD, optimizerSGD, num_epochs)\n",
        "test_acc_Adam = train(netAdam, optimizerAdam, num_epochs)"
      ],
      "execution_count": 8,
      "outputs": [
        {
          "output_type": "stream",
          "text": [
            "epoch: 0, time: 0.000s, Test accuracy: 0.123\n",
            "epoch: 1, time: 9.198s, Test accuracy: 0.876\n",
            "epoch: 2, time: 19.780s, Test accuracy: 0.906\n",
            "epoch: 3, time: 30.317s, Test accuracy: 0.916\n",
            "epoch: 4, time: 41.304s, Test accuracy: 0.925\n",
            "epoch: 5, time: 52.171s, Test accuracy: 0.930\n",
            "epoch: 6, time: 62.824s, Test accuracy: 0.934\n",
            "epoch: 7, time: 73.515s, Test accuracy: 0.937\n",
            "epoch: 8, time: 84.210s, Test accuracy: 0.941\n",
            "epoch: 9, time: 95.089s, Test accuracy: 0.943\n",
            "epoch: 10, time: 105.990s, Test accuracy: 0.946\n",
            "epoch: 11, time: 116.722s, Test accuracy: 0.948\n",
            "epoch: 12, time: 127.493s, Test accuracy: 0.951\n",
            "epoch: 13, time: 138.082s, Test accuracy: 0.955\n",
            "epoch: 14, time: 148.644s, Test accuracy: 0.957\n",
            "epoch: 15, time: 159.266s, Test accuracy: 0.959\n",
            "epoch: 16, time: 170.215s, Test accuracy: 0.960\n",
            "epoch: 17, time: 180.901s, Test accuracy: 0.962\n",
            "epoch: 18, time: 191.290s, Test accuracy: 0.963\n",
            "epoch: 19, time: 202.132s, Test accuracy: 0.965\n",
            "epoch: 20, time: 212.831s, Test accuracy: 0.965\n",
            "epoch: 21, time: 223.297s, Test accuracy: 0.967\n",
            "epoch: 22, time: 233.663s, Test accuracy: 0.968\n",
            "epoch: 23, time: 244.291s, Test accuracy: 0.967\n",
            "epoch: 24, time: 255.019s, Test accuracy: 0.969\n",
            "epoch: 25, time: 265.365s, Test accuracy: 0.970\n",
            "epoch: 0, time: 0.000s, Test accuracy: 0.123\n",
            "epoch: 1, time: 9.572s, Test accuracy: 0.952\n",
            "epoch: 2, time: 20.386s, Test accuracy: 0.970\n",
            "epoch: 3, time: 31.328s, Test accuracy: 0.975\n",
            "epoch: 4, time: 43.132s, Test accuracy: 0.973\n",
            "epoch: 5, time: 54.054s, Test accuracy: 0.975\n",
            "epoch: 6, time: 65.467s, Test accuracy: 0.975\n",
            "epoch: 7, time: 76.352s, Test accuracy: 0.975\n",
            "epoch: 8, time: 87.481s, Test accuracy: 0.978\n",
            "epoch: 9, time: 98.505s, Test accuracy: 0.973\n",
            "epoch: 10, time: 109.556s, Test accuracy: 0.978\n",
            "epoch: 11, time: 120.580s, Test accuracy: 0.977\n",
            "epoch: 12, time: 131.822s, Test accuracy: 0.977\n",
            "epoch: 13, time: 142.960s, Test accuracy: 0.979\n",
            "epoch: 14, time: 154.258s, Test accuracy: 0.980\n",
            "epoch: 15, time: 165.961s, Test accuracy: 0.976\n",
            "epoch: 16, time: 176.799s, Test accuracy: 0.980\n",
            "epoch: 17, time: 187.748s, Test accuracy: 0.979\n",
            "epoch: 18, time: 199.191s, Test accuracy: 0.977\n",
            "epoch: 19, time: 210.256s, Test accuracy: 0.975\n",
            "epoch: 20, time: 221.185s, Test accuracy: 0.980\n",
            "epoch: 21, time: 231.782s, Test accuracy: 0.981\n",
            "epoch: 22, time: 242.419s, Test accuracy: 0.978\n",
            "epoch: 23, time: 253.268s, Test accuracy: 0.979\n",
            "epoch: 24, time: 264.348s, Test accuracy: 0.980\n",
            "epoch: 25, time: 275.715s, Test accuracy: 0.977\n"
          ],
          "name": "stdout"
        }
      ]
    },
    {
      "cell_type": "code",
      "metadata": {
        "id": "MZizXui6Odl4",
        "outputId": "fcf1045c-26bb-41ff-d46d-00bf47fd0c42",
        "colab": {
          "base_uri": "https://localhost:8080/",
          "height": 312
        }
      },
      "source": [
        "plt.plot(epochs,test_acc_SGD,epochs,test_acc_Adam)\n",
        "plt.ylim([0.8,1])\n",
        "plt.legend(['SGD', 'Adam'])\n",
        "plt.title('Test accuracy for different nr. op epochs')\n",
        "plt.xlabel('Epochs')\n",
        "plt.ylabel('Test accuracy')"
      ],
      "execution_count": 16,
      "outputs": [
        {
          "output_type": "execute_result",
          "data": {
            "text/plain": [
              "Text(0, 0.5, 'Test accuracy')"
            ]
          },
          "metadata": {
            "tags": []
          },
          "execution_count": 16
        },
        {
          "output_type": "display_data",
          "data": {
            "image/png": "[encoded data removed]",
            "text/plain": [
              "<Figure size 432x288 with 1 Axes>"
            ]
          },
          "metadata": {
            "tags": [],
            "needs_background": "light"
          }
        }
      ]
    },
    {
      "cell_type": "markdown",
      "metadata": {
        "id": "Oxd7QRI0qqVh"
      },
      "source": [
        "So with SGD we reach a test accuracy of 0.97 after 25 epochs, but still gradually increasing. With Adam we reach a test accuracy of approximately 0.975-0.980 after only 3 epochs. "
      ]
    },
    {
      "cell_type": "markdown",
      "metadata": {
        "id": "bzg68_4ysS6W"
      },
      "source": [
        "## Exercise 2a"
      ]
    },
    {
      "cell_type": "code",
      "metadata": {
        "colab": {
          "base_uri": "https://localhost:8080/"
        },
        "id": "1cqibxRYs95b",
        "outputId": "012da49f-ee6e-4be1-f730-3b01a17db025"
      },
      "source": [
        "test_acc_layers_SGD = np.zeros(10)\n",
        "test_acc_layers_Adam = np.zeros(10)\n",
        "\n",
        "num_epochs = 10\n",
        "\n",
        "for num_layers in range(10):\n",
        "  hidden = ((50,))*num_layers\n",
        "  netSGD = MLP(w * h, hidden, k).to(device)\n",
        "  print(netSGD)\n",
        "  netAdam = copy.deepcopy(netSGD)\n",
        "  optimizerSGD = torch.optim.SGD(netSGD.parameters() , lr=0.5)\n",
        "  optimizerAdam = torch.optim.Adam(netAdam.parameters(), lr=0.001, betas=(0.9,0.999), eps=1e-08)\n",
        "\n",
        "  test_acc_SGD = train(netSGD, optimizerSGD, num_epochs)\n",
        "  test_acc_Adam = train(netAdam, optimizerAdam, num_epochs)\n",
        "\n",
        "  test_acc_layers_SGD[num_layers] = np.amax(test_acc_SGD)\n",
        "  test_acc_layers_Adam[num_layers] = np.amax(test_acc_Adam)\n"
      ],
      "execution_count": 18,
      "outputs": [
        {
          "output_type": "stream",
          "text": [
            "MLP(\n",
            "  (layers): ModuleList(\n",
            "    (0): Linear(in_features=784, out_features=10, bias=True)\n",
            "  )\n",
            ")\n",
            "epoch: 0, time: 0.000s, Test accuracy: 0.079\n",
            "epoch: 1, time: 9.353s, Test accuracy: 0.887\n",
            "epoch: 2, time: 20.070s, Test accuracy: 0.882\n",
            "epoch: 3, time: 31.244s, Test accuracy: 0.900\n",
            "epoch: 4, time: 42.352s, Test accuracy: 0.862\n",
            "epoch: 5, time: 52.882s, Test accuracy: 0.912\n",
            "epoch: 6, time: 63.418s, Test accuracy: 0.839\n",
            "epoch: 7, time: 73.845s, Test accuracy: 0.882\n",
            "epoch: 8, time: 84.496s, Test accuracy: 0.834\n",
            "epoch: 9, time: 95.433s, Test accuracy: 0.841\n",
            "epoch: 10, time: 106.318s, Test accuracy: 0.908\n",
            "epoch: 0, time: 0.000s, Test accuracy: 0.079\n",
            "epoch: 1, time: 9.443s, Test accuracy: 0.914\n",
            "epoch: 2, time: 20.713s, Test accuracy: 0.921\n",
            "epoch: 3, time: 32.037s, Test accuracy: 0.922\n",
            "epoch: 4, time: 42.899s, Test accuracy: 0.921\n",
            "epoch: 5, time: 53.971s, Test accuracy: 0.924\n",
            "epoch: 6, time: 65.383s, Test accuracy: 0.922\n",
            "epoch: 7, time: 77.058s, Test accuracy: 0.921\n",
            "epoch: 8, time: 88.034s, Test accuracy: 0.924\n",
            "epoch: 9, time: 100.226s, Test accuracy: 0.923\n",
            "epoch: 10, time: 111.727s, Test accuracy: 0.923\n",
            "MLP(\n",
            "  (layers): ModuleList(\n",
            "    (0): Linear(in_features=784, out_features=50, bias=True)\n",
            "    (1): Linear(in_features=50, out_features=10, bias=True)\n",
            "  )\n",
            ")\n",
            "epoch: 0, time: 0.000s, Test accuracy: 0.089\n",
            "epoch: 1, time: 10.001s, Test accuracy: 0.941\n",
            "epoch: 2, time: 21.472s, Test accuracy: 0.950\n",
            "epoch: 3, time: 32.715s, Test accuracy: 0.952\n",
            "epoch: 4, time: 44.023s, Test accuracy: 0.957\n",
            "epoch: 5, time: 55.757s, Test accuracy: 0.966\n",
            "epoch: 6, time: 67.401s, Test accuracy: 0.966\n",
            "epoch: 7, time: 79.053s, Test accuracy: 0.965\n",
            "epoch: 8, time: 90.125s, Test accuracy: 0.964\n",
            "epoch: 9, time: 101.375s, Test accuracy: 0.965\n",
            "epoch: 10, time: 112.723s, Test accuracy: 0.964\n",
            "epoch: 0, time: 0.000s, Test accuracy: 0.089\n",
            "epoch: 1, time: 10.335s, Test accuracy: 0.934\n",
            "epoch: 2, time: 22.367s, Test accuracy: 0.951\n",
            "epoch: 3, time: 34.113s, Test accuracy: 0.959\n",
            "epoch: 4, time: 46.288s, Test accuracy: 0.964\n",
            "epoch: 5, time: 58.217s, Test accuracy: 0.969\n",
            "epoch: 6, time: 70.026s, Test accuracy: 0.969\n",
            "epoch: 7, time: 81.602s, Test accuracy: 0.972\n",
            "epoch: 8, time: 93.164s, Test accuracy: 0.972\n",
            "epoch: 9, time: 104.655s, Test accuracy: 0.971\n",
            "epoch: 10, time: 116.555s, Test accuracy: 0.972\n",
            "MLP(\n",
            "  (layers): ModuleList(\n",
            "    (0): Linear(in_features=784, out_features=50, bias=True)\n",
            "    (1): Linear(in_features=50, out_features=50, bias=True)\n",
            "    (2): Linear(in_features=50, out_features=10, bias=True)\n",
            "  )\n",
            ")\n",
            "epoch: 0, time: 0.000s, Test accuracy: 0.098\n",
            "epoch: 1, time: 10.240s, Test accuracy: 0.937\n",
            "epoch: 2, time: 22.287s, Test accuracy: 0.958\n",
            "epoch: 3, time: 34.117s, Test accuracy: 0.954\n",
            "epoch: 4, time: 45.438s, Test accuracy: 0.947\n",
            "epoch: 5, time: 57.557s, Test accuracy: 0.957\n",
            "epoch: 6, time: 69.447s, Test accuracy: 0.958\n",
            "epoch: 7, time: 81.672s, Test accuracy: 0.955\n",
            "epoch: 8, time: 93.636s, Test accuracy: 0.968\n",
            "epoch: 9, time: 105.872s, Test accuracy: 0.964\n",
            "epoch: 10, time: 117.556s, Test accuracy: 0.968\n",
            "epoch: 0, time: 0.000s, Test accuracy: 0.098\n",
            "epoch: 1, time: 9.919s, Test accuracy: 0.942\n",
            "epoch: 2, time: 22.216s, Test accuracy: 0.954\n",
            "epoch: 3, time: 33.963s, Test accuracy: 0.961\n",
            "epoch: 4, time: 45.882s, Test accuracy: 0.967\n",
            "epoch: 5, time: 57.766s, Test accuracy: 0.968\n",
            "epoch: 6, time: 69.878s, Test accuracy: 0.969\n",
            "epoch: 7, time: 81.599s, Test accuracy: 0.972\n",
            "epoch: 8, time: 93.498s, Test accuracy: 0.970\n",
            "epoch: 9, time: 105.786s, Test accuracy: 0.972\n",
            "epoch: 10, time: 118.272s, Test accuracy: 0.972\n",
            "MLP(\n",
            "  (layers): ModuleList(\n",
            "    (0): Linear(in_features=784, out_features=50, bias=True)\n",
            "    (1): Linear(in_features=50, out_features=50, bias=True)\n",
            "    (2): Linear(in_features=50, out_features=50, bias=True)\n",
            "    (3): Linear(in_features=50, out_features=10, bias=True)\n",
            "  )\n",
            ")\n",
            "epoch: 0, time: 0.000s, Test accuracy: 0.101\n",
            "epoch: 1, time: 10.601s, Test accuracy: 0.921\n",
            "epoch: 2, time: 22.771s, Test accuracy: 0.955\n",
            "epoch: 3, time: 34.909s, Test accuracy: 0.958\n",
            "epoch: 4, time: 46.956s, Test accuracy: 0.950\n",
            "epoch: 5, time: 59.124s, Test accuracy: 0.969\n",
            "epoch: 6, time: 71.112s, Test accuracy: 0.967\n",
            "epoch: 7, time: 83.058s, Test accuracy: 0.957\n",
            "epoch: 8, time: 95.017s, Test accuracy: 0.963\n",
            "epoch: 9, time: 107.363s, Test accuracy: 0.968\n",
            "epoch: 10, time: 119.144s, Test accuracy: 0.967\n",
            "epoch: 0, time: 0.000s, Test accuracy: 0.101\n",
            "epoch: 1, time: 10.593s, Test accuracy: 0.940\n",
            "epoch: 2, time: 23.329s, Test accuracy: 0.956\n",
            "epoch: 3, time: 35.685s, Test accuracy: 0.959\n",
            "epoch: 4, time: 47.992s, Test accuracy: 0.966\n",
            "epoch: 5, time: 60.070s, Test accuracy: 0.966\n",
            "epoch: 6, time: 72.443s, Test accuracy: 0.967\n",
            "epoch: 7, time: 85.030s, Test accuracy: 0.970\n",
            "epoch: 8, time: 97.568s, Test accuracy: 0.970\n",
            "epoch: 9, time: 110.340s, Test accuracy: 0.971\n",
            "epoch: 10, time: 123.319s, Test accuracy: 0.971\n",
            "MLP(\n",
            "  (layers): ModuleList(\n",
            "    (0): Linear(in_features=784, out_features=50, bias=True)\n",
            "    (1): Linear(in_features=50, out_features=50, bias=True)\n",
            "    (2): Linear(in_features=50, out_features=50, bias=True)\n",
            "    (3): Linear(in_features=50, out_features=50, bias=True)\n",
            "    (4): Linear(in_features=50, out_features=10, bias=True)\n",
            "  )\n",
            ")\n",
            "epoch: 0, time: 0.000s, Test accuracy: 0.098\n",
            "epoch: 1, time: 10.487s, Test accuracy: 0.939\n",
            "epoch: 2, time: 22.514s, Test accuracy: 0.951\n",
            "epoch: 3, time: 34.723s, Test accuracy: 0.959\n",
            "epoch: 4, time: 47.536s, Test accuracy: 0.960\n",
            "epoch: 5, time: 59.563s, Test accuracy: 0.956\n",
            "epoch: 6, time: 71.573s, Test accuracy: 0.969\n",
            "epoch: 7, time: 83.785s, Test accuracy: 0.967\n",
            "epoch: 8, time: 95.856s, Test accuracy: 0.968\n",
            "epoch: 9, time: 108.054s, Test accuracy: 0.969\n",
            "epoch: 10, time: 120.079s, Test accuracy: 0.970\n",
            "epoch: 0, time: 0.000s, Test accuracy: 0.098\n",
            "epoch: 1, time: 11.573s, Test accuracy: 0.915\n",
            "epoch: 2, time: 24.433s, Test accuracy: 0.951\n",
            "epoch: 3, time: 37.327s, Test accuracy: 0.960\n",
            "epoch: 4, time: 49.826s, Test accuracy: 0.967\n",
            "epoch: 5, time: 62.505s, Test accuracy: 0.967\n",
            "epoch: 6, time: 75.548s, Test accuracy: 0.970\n",
            "epoch: 7, time: 88.366s, Test accuracy: 0.970\n",
            "epoch: 8, time: 101.370s, Test accuracy: 0.973\n",
            "epoch: 9, time: 114.564s, Test accuracy: 0.969\n",
            "epoch: 10, time: 127.424s, Test accuracy: 0.971\n",
            "MLP(\n",
            "  (layers): ModuleList(\n",
            "    (0): Linear(in_features=784, out_features=50, bias=True)\n",
            "    (1): Linear(in_features=50, out_features=50, bias=True)\n",
            "    (2): Linear(in_features=50, out_features=50, bias=True)\n",
            "    (3): Linear(in_features=50, out_features=50, bias=True)\n",
            "    (4): Linear(in_features=50, out_features=50, bias=True)\n",
            "    (5): Linear(in_features=50, out_features=10, bias=True)\n",
            "  )\n",
            ")\n",
            "epoch: 0, time: 0.000s, Test accuracy: 0.098\n",
            "epoch: 1, time: 10.848s, Test accuracy: 0.931\n",
            "epoch: 2, time: 23.567s, Test accuracy: 0.952\n",
            "epoch: 3, time: 36.156s, Test accuracy: 0.957\n",
            "epoch: 4, time: 49.107s, Test accuracy: 0.954\n",
            "epoch: 5, time: 62.299s, Test accuracy: 0.961\n",
            "epoch: 6, time: 74.631s, Test accuracy: 0.968\n",
            "epoch: 7, time: 87.050s, Test accuracy: 0.960\n",
            "epoch: 8, time: 99.001s, Test accuracy: 0.971\n",
            "epoch: 9, time: 111.445s, Test accuracy: 0.971\n",
            "epoch: 10, time: 123.795s, Test accuracy: 0.967\n",
            "epoch: 0, time: 0.000s, Test accuracy: 0.098\n",
            "epoch: 1, time: 10.766s, Test accuracy: 0.926\n",
            "epoch: 2, time: 23.463s, Test accuracy: 0.950\n",
            "epoch: 3, time: 36.147s, Test accuracy: 0.953\n",
            "epoch: 4, time: 48.804s, Test accuracy: 0.955\n",
            "epoch: 5, time: 61.137s, Test accuracy: 0.957\n",
            "epoch: 6, time: 73.622s, Test accuracy: 0.965\n",
            "epoch: 7, time: 86.746s, Test accuracy: 0.971\n",
            "epoch: 8, time: 99.241s, Test accuracy: 0.964\n",
            "epoch: 9, time: 111.555s, Test accuracy: 0.965\n",
            "epoch: 10, time: 124.314s, Test accuracy: 0.964\n",
            "MLP(\n",
            "  (layers): ModuleList(\n",
            "    (0): Linear(in_features=784, out_features=50, bias=True)\n",
            "    (1): Linear(in_features=50, out_features=50, bias=True)\n",
            "    (2): Linear(in_features=50, out_features=50, bias=True)\n",
            "    (3): Linear(in_features=50, out_features=50, bias=True)\n",
            "    (4): Linear(in_features=50, out_features=50, bias=True)\n",
            "    (5): Linear(in_features=50, out_features=50, bias=True)\n",
            "    (6): Linear(in_features=50, out_features=10, bias=True)\n",
            "  )\n",
            ")\n",
            "epoch: 0, time: 0.000s, Test accuracy: 0.098\n",
            "epoch: 1, time: 10.681s, Test accuracy: 0.683\n",
            "epoch: 2, time: 22.389s, Test accuracy: 0.938\n",
            "epoch: 3, time: 34.094s, Test accuracy: 0.951\n",
            "epoch: 4, time: 45.830s, Test accuracy: 0.960\n",
            "epoch: 5, time: 57.625s, Test accuracy: 0.961\n",
            "epoch: 6, time: 69.573s, Test accuracy: 0.959\n",
            "epoch: 7, time: 81.242s, Test accuracy: 0.964\n",
            "epoch: 8, time: 92.724s, Test accuracy: 0.961\n",
            "epoch: 9, time: 104.375s, Test accuracy: 0.970\n",
            "epoch: 10, time: 115.597s, Test accuracy: 0.966\n",
            "epoch: 0, time: 0.000s, Test accuracy: 0.098\n",
            "epoch: 1, time: 11.569s, Test accuracy: 0.909\n",
            "epoch: 2, time: 23.914s, Test accuracy: 0.945\n",
            "epoch: 3, time: 36.169s, Test accuracy: 0.948\n",
            "epoch: 4, time: 48.836s, Test accuracy: 0.952\n",
            "epoch: 5, time: 61.379s, Test accuracy: 0.959\n",
            "epoch: 6, time: 73.596s, Test accuracy: 0.962\n",
            "epoch: 7, time: 85.972s, Test accuracy: 0.964\n",
            "epoch: 8, time: 98.789s, Test accuracy: 0.966\n",
            "epoch: 9, time: 111.288s, Test accuracy: 0.964\n",
            "epoch: 10, time: 124.233s, Test accuracy: 0.967\n",
            "MLP(\n",
            "  (layers): ModuleList(\n",
            "    (0): Linear(in_features=784, out_features=50, bias=True)\n",
            "    (1): Linear(in_features=50, out_features=50, bias=True)\n",
            "    (2): Linear(in_features=50, out_features=50, bias=True)\n",
            "    (3): Linear(in_features=50, out_features=50, bias=True)\n",
            "    (4): Linear(in_features=50, out_features=50, bias=True)\n",
            "    (5): Linear(in_features=50, out_features=50, bias=True)\n",
            "    (6): Linear(in_features=50, out_features=50, bias=True)\n",
            "    (7): Linear(in_features=50, out_features=10, bias=True)\n",
            "  )\n",
            ")\n",
            "epoch: 0, time: 0.000s, Test accuracy: 0.114\n",
            "epoch: 1, time: 10.293s, Test accuracy: 0.706\n",
            "epoch: 2, time: 22.758s, Test accuracy: 0.098\n",
            "epoch: 3, time: 34.784s, Test accuracy: 0.098\n",
            "epoch: 4, time: 47.024s, Test accuracy: 0.098\n",
            "epoch: 5, time: 59.639s, Test accuracy: 0.098\n",
            "epoch: 6, time: 71.471s, Test accuracy: 0.098\n",
            "epoch: 7, time: 83.834s, Test accuracy: 0.098\n",
            "epoch: 8, time: 95.711s, Test accuracy: 0.098\n",
            "epoch: 9, time: 107.912s, Test accuracy: 0.098\n",
            "epoch: 10, time: 120.212s, Test accuracy: 0.098\n",
            "epoch: 0, time: 0.000s, Test accuracy: 0.114\n",
            "epoch: 1, time: 11.603s, Test accuracy: 0.909\n",
            "epoch: 2, time: 24.450s, Test accuracy: 0.941\n",
            "epoch: 3, time: 37.236s, Test accuracy: 0.950\n",
            "epoch: 4, time: 50.346s, Test accuracy: 0.955\n",
            "epoch: 5, time: 63.823s, Test accuracy: 0.961\n",
            "epoch: 6, time: 76.993s, Test accuracy: 0.962\n",
            "epoch: 7, time: 90.659s, Test accuracy: 0.963\n",
            "epoch: 8, time: 103.891s, Test accuracy: 0.966\n",
            "epoch: 9, time: 117.306s, Test accuracy: 0.964\n",
            "epoch: 10, time: 130.603s, Test accuracy: 0.970\n",
            "MLP(\n",
            "  (layers): ModuleList(\n",
            "    (0): Linear(in_features=784, out_features=50, bias=True)\n",
            "    (1): Linear(in_features=50, out_features=50, bias=True)\n",
            "    (2): Linear(in_features=50, out_features=50, bias=True)\n",
            "    (3): Linear(in_features=50, out_features=50, bias=True)\n",
            "    (4): Linear(in_features=50, out_features=50, bias=True)\n",
            "    (5): Linear(in_features=50, out_features=50, bias=True)\n",
            "    (6): Linear(in_features=50, out_features=50, bias=True)\n",
            "    (7): Linear(in_features=50, out_features=50, bias=True)\n",
            "    (8): Linear(in_features=50, out_features=10, bias=True)\n",
            "  )\n",
            ")\n",
            "epoch: 0, time: 0.000s, Test accuracy: 0.098\n",
            "epoch: 1, time: 11.015s, Test accuracy: 0.285\n",
            "epoch: 2, time: 23.608s, Test accuracy: 0.724\n",
            "epoch: 3, time: 36.808s, Test accuracy: 0.777\n",
            "epoch: 4, time: 49.335s, Test accuracy: 0.847\n",
            "epoch: 5, time: 62.095s, Test accuracy: 0.927\n",
            "epoch: 6, time: 75.437s, Test accuracy: 0.657\n",
            "epoch: 7, time: 87.929s, Test accuracy: 0.631\n",
            "epoch: 8, time: 100.725s, Test accuracy: 0.114\n",
            "epoch: 9, time: 114.133s, Test accuracy: 0.114\n",
            "epoch: 10, time: 126.897s, Test accuracy: 0.114\n",
            "epoch: 0, time: 0.000s, Test accuracy: 0.098\n",
            "epoch: 1, time: 11.810s, Test accuracy: 0.910\n",
            "epoch: 2, time: 25.966s, Test accuracy: 0.933\n",
            "epoch: 3, time: 39.667s, Test accuracy: 0.949\n",
            "epoch: 4, time: 53.275s, Test accuracy: 0.947\n",
            "epoch: 5, time: 66.959s, Test accuracy: 0.960\n",
            "epoch: 6, time: 80.386s, Test accuracy: 0.961\n",
            "epoch: 7, time: 94.041s, Test accuracy: 0.964\n",
            "epoch: 8, time: 107.284s, Test accuracy: 0.963\n",
            "epoch: 9, time: 120.595s, Test accuracy: 0.967\n",
            "epoch: 10, time: 133.834s, Test accuracy: 0.961\n",
            "MLP(\n",
            "  (layers): ModuleList(\n",
            "    (0): Linear(in_features=784, out_features=50, bias=True)\n",
            "    (1): Linear(in_features=50, out_features=50, bias=True)\n",
            "    (2): Linear(in_features=50, out_features=50, bias=True)\n",
            "    (3): Linear(in_features=50, out_features=50, bias=True)\n",
            "    (4): Linear(in_features=50, out_features=50, bias=True)\n",
            "    (5): Linear(in_features=50, out_features=50, bias=True)\n",
            "    (6): Linear(in_features=50, out_features=50, bias=True)\n",
            "    (7): Linear(in_features=50, out_features=50, bias=True)\n",
            "    (8): Linear(in_features=50, out_features=50, bias=True)\n",
            "    (9): Linear(in_features=50, out_features=10, bias=True)\n",
            "  )\n",
            ")\n",
            "epoch: 0, time: 0.000s, Test accuracy: 0.098\n",
            "epoch: 1, time: 10.749s, Test accuracy: 0.468\n",
            "epoch: 2, time: 23.860s, Test accuracy: 0.755\n",
            "epoch: 3, time: 37.538s, Test accuracy: 0.098\n",
            "epoch: 4, time: 49.954s, Test accuracy: 0.098\n",
            "epoch: 5, time: 62.100s, Test accuracy: 0.098\n",
            "epoch: 6, time: 74.346s, Test accuracy: 0.098\n",
            "epoch: 7, time: 86.510s, Test accuracy: 0.098\n",
            "epoch: 8, time: 98.765s, Test accuracy: 0.098\n",
            "epoch: 9, time: 111.414s, Test accuracy: 0.098\n",
            "epoch: 10, time: 124.147s, Test accuracy: 0.098\n",
            "epoch: 0, time: 0.000s, Test accuracy: 0.098\n",
            "epoch: 1, time: 11.731s, Test accuracy: 0.865\n",
            "epoch: 2, time: 25.610s, Test accuracy: 0.932\n",
            "epoch: 3, time: 38.846s, Test accuracy: 0.932\n",
            "epoch: 4, time: 51.753s, Test accuracy: 0.952\n",
            "epoch: 5, time: 65.360s, Test accuracy: 0.954\n",
            "epoch: 6, time: 78.225s, Test accuracy: 0.957\n",
            "epoch: 7, time: 91.268s, Test accuracy: 0.955\n",
            "epoch: 8, time: 104.352s, Test accuracy: 0.967\n",
            "epoch: 9, time: 117.634s, Test accuracy: 0.965\n",
            "epoch: 10, time: 130.628s, Test accuracy: 0.965\n"
          ],
          "name": "stdout"
        }
      ]
    },
    {
      "cell_type": "code",
      "metadata": {
        "id": "mdBldQHT3PjF",
        "outputId": "fe8e7f9c-7e87-4c97-8621-17e3647c7fa7",
        "colab": {
          "base_uri": "https://localhost:8080/",
          "height": 312
        }
      },
      "source": [
        "layers = np.arange(0,10)\n",
        "\n",
        "plt.plot(layers,test_acc_layers_SGD,layers,test_acc_layers_Adam)\n",
        "plt.ylim([0.5,1])\n",
        "plt.legend(['SGD', 'Adam'])\n",
        "plt.title('Test accuracy for different nr. of hidden layers')\n",
        "plt.xlabel('Nr. of layers (50 nodes each)')\n",
        "plt.ylabel('Test accuracy (maximum)')"
      ],
      "execution_count": 20,
      "outputs": [
        {
          "output_type": "execute_result",
          "data": {
            "text/plain": [
              "Text(0, 0.5, 'Test accuracy (maximum)')"
            ]
          },
          "metadata": {
            "tags": []
          },
          "execution_count": 20
        },
        {
          "output_type": "display_data",
          "data": {
            "image/png": "[encoded data removed]",
            "text/plain": [
              "<Figure size 432x288 with 1 Axes>"
            ]
          },
          "metadata": {
            "tags": [],
            "needs_background": "light"
          }
        }
      ]
    }
  ]
}