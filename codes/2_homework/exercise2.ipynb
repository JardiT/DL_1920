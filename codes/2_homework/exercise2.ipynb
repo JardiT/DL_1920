{
  "nbformat": 4,
  "nbformat_minor": 0,
  "metadata": {
    "colab": {
      "name": "Untitled0.ipynb",
      "provenance": [],
      "authorship_tag": "ABX9TyO3bzZ++VKzD7vvZ/6/UVIb",
      "include_colab_link": true
    },
    "kernelspec": {
      "name": "python3",
      "display_name": "Python 3"
    },
    "accelerator": "GPU"
  },
  "cells": [
    {
      "cell_type": "markdown",
      "metadata": {
        "id": "view-in-github",
        "colab_type": "text"
      },
      "source": [
        "<a href=\"https://colab.research.google.com/github/JardiT/DL_1920/blob/master/codes/2_homework/exercise2.ipynb\" target=\"_parent\"><img src=\"https://colab.research.google.com/assets/colab-badge.svg\" alt=\"Open In Colab\"/></a>"
      ]
    },
    {
      "cell_type": "markdown",
      "metadata": {
        "id": "rtVnFu0N3Pip"
      },
      "source": [
        "# Hand-in 2\n",
        "\n",
        "# Exercise 2"
      ]
    },
    {
      "cell_type": "code",
      "metadata": {
        "id": "2iBhEmUX3Pis"
      },
      "source": [
        "import torch\n",
        "import torch.nn as nn\n",
        "import torch.nn.functional as F\n",
        "import torch.optim as optim\n",
        "import time\n",
        "\n",
        "import torchvision.datasets\n",
        "import torchvision.transforms as transforms\n",
        "\n",
        "import numpy as np\n",
        "import matplotlib.pyplot as plt"
      ],
      "execution_count": 1,
      "outputs": []
    },
    {
      "cell_type": "code",
      "metadata": {
        "colab": {
          "base_uri": "https://localhost:8080/"
        },
        "id": "Q2pjyvOQIGLr",
        "outputId": "4d36e5ca-9827-42d0-be21-7aeb1736b97c"
      },
      "source": [
        "# Choose which device to use\n",
        "use_cuda = True\n",
        "\n",
        "if use_cuda and torch.cuda.is_available():\n",
        "  device = torch.device('cuda')\n",
        "else:\n",
        "  device = torch.device('cpu')\n",
        "\n",
        "device"
      ],
      "execution_count": 2,
      "outputs": [
        {
          "output_type": "execute_result",
          "data": {
            "text/plain": [
              "device(type='cuda')"
            ]
          },
          "metadata": {
            "tags": []
          },
          "execution_count": 2
        }
      ]
    },
    {
      "cell_type": "markdown",
      "metadata": {
        "id": "WxQqOeeH3Piu"
      },
      "source": [
        "### Download the data"
      ]
    },
    {
      "cell_type": "code",
      "metadata": {
        "id": "f4puS9VF3Piv"
      },
      "source": [
        "# Apply transformations to the data points before passing them to the network\n",
        "transform = transforms.Compose([transforms.ToTensor(),  # Transform the data to torch tensors of shape (28, 28, 1), corresponding to 28 * 28 pixels with 1 channel (1 value per pixel that is)\n",
        "                                transforms.Normalize((0.1307,), (0.3081,)),  # Normalize the images (mean and std for MNIST dataset found online)\n",
        "                                ])\n",
        "\n",
        "# Download the MNIST train dataset (used to train the network)\n",
        "trainset = torchvision.datasets.MNIST(root='./data_mnist',\n",
        "                                      train=True,\n",
        "                                      download=True,\n",
        "                                      transform=transform  # Apply the defined transformation on the data\n",
        "                                      )\n",
        "\n",
        "# Download the MNIST test dataset (used to evaluate the trained network)\n",
        "testset = torchvision.datasets.MNIST(root='./data_mnist',\n",
        "                                     train=False,\n",
        "                                     download=True,\n",
        "                                     transform=transform\n",
        "                                     )\n",
        "\n",
        "batch_size = 128\n",
        "w, h, c = 28, 28, 1  # Width, Height, Nr. of channels for the input images\n",
        "k = 10  # Number of output classes\n",
        "\n",
        "trainloader = torch.utils.data.DataLoader(trainset,\n",
        "                                          batch_size=batch_size,\n",
        "                                          shuffle=True,  # Shuffle the dataset for random ordering of train samples\n",
        "                                          )\n",
        "\n",
        "testloader = torch.utils.data.DataLoader(testset,\n",
        "                                         batch_size=batch_size,\n",
        "                                         shuffle=True,\n",
        "                                         )\n",
        "\n"
      ],
      "execution_count": 3,
      "outputs": []
    },
    {
      "cell_type": "markdown",
      "metadata": {
        "id": "n9poheSG3Pix"
      },
      "source": [
        "### Defining the MLP architecture"
      ]
    },
    {
      "cell_type": "code",
      "metadata": {
        "id": "gjlcWQAq3Piy"
      },
      "source": [
        "class MLP(nn.Module):\n",
        "  def __init__(self,\n",
        "               input_size,  # Size of the input. Here we will first flatten the image to a single vector with the 3 * 32 * 32 values in the image \n",
        "               layer_sizes,  # A tuple containing the sizes of the hidden layers of the neural network. So to create a NN with two hidden layers with 32 neurons in each layer you'd set layer_sizes=(32,32)\n",
        "               output_size):  # The size of the network output. CIFAR10 has 10 output classes\n",
        "    super(MLP, self).__init__()\n",
        "    shape = (input_size,) + tuple(layer_sizes) + (output_size,)\n",
        "    self.layers = nn.ModuleList([nn.Linear(shape[i], shape[i + 1]) for i in range(len(shape) - 1)])  # Store the layers in a ModuleList object so they are recognized by pytorch as submodules of this model\n",
        "\n",
        "  def forward(self, x):\n",
        "    for layer in self.layers[:-1]:  # Apply relu activation to all but the last layer in the network\n",
        "      x = F.relu(layer(x))\n",
        "    return self.layers[-1](x)"
      ],
      "execution_count": 4,
      "outputs": []
    },
    {
      "cell_type": "code",
      "metadata": {
        "id": "EkrRGOi53Pi0",
        "colab": {
          "base_uri": "https://localhost:8080/"
        },
        "outputId": "488db338-0a0c-4da8-b2f9-74b34334f03e"
      },
      "source": [
        "net = MLP(w * h, (128, 128), k).to(device)  # Create a new dense neural network with two hidden layers of size 128\n",
        "\n",
        "print(net)"
      ],
      "execution_count": 5,
      "outputs": [
        {
          "output_type": "stream",
          "text": [
            "MLP(\n",
            "  (layers): ModuleList(\n",
            "    (0): Linear(in_features=784, out_features=128, bias=True)\n",
            "    (1): Linear(in_features=128, out_features=128, bias=True)\n",
            "    (2): Linear(in_features=128, out_features=10, bias=True)\n",
            "  )\n",
            ")\n"
          ],
          "name": "stdout"
        }
      ]
    },
    {
      "cell_type": "markdown",
      "metadata": {
        "id": "TzPiVKDh3Pi3"
      },
      "source": [
        "### Choose the criterion and optimizers"
      ]
    },
    {
      "cell_type": "code",
      "metadata": {
        "id": "z0a70KQd3Pi3"
      },
      "source": [
        "criterion = nn.CrossEntropyLoss()\n",
        "\n",
        "optimizerSGD = torch.optim.SGD(net.parameters() , lr=0.01)\n",
        "optimizerAdam = torch.optim.Adam(net.parameters(), lr=0.001, betas=(0.9,0.999), eps=1e-08)"
      ],
      "execution_count": 6,
      "outputs": []
    },
    {
      "cell_type": "markdown",
      "metadata": {
        "id": "AITuDE5r3Pi5"
      },
      "source": [
        "### Train the network with SGD"
      ]
    },
    {
      "cell_type": "code",
      "metadata": {
        "id": "H8LpttCP3Pi6",
        "colab": {
          "base_uri": "https://localhost:8080/"
        },
        "outputId": "637ef99c-a376-4de7-eb47-6cd0c4fb4cb8"
      },
      "source": [
        "num_epochs = 10\n",
        "\n",
        "test_acc = np.zeros(num_epochs+1)\n",
        "# Evaluate the untrained model on the test set\n",
        "correct_total = 0\n",
        "for i, (x_batch, y_batch) in enumerate(testloader):\n",
        "  x_batch, y_batch = x_batch.to(device), y_batch.to(device)  # Move the data to the device that is used\n",
        "\n",
        "  y_pred = net(x_batch.view(-1, w * h))\n",
        "  y_pred_max = torch.argmax(y_pred, dim=1)\n",
        "\n",
        "  correct_total += torch.sum(torch.eq(y_pred_max, y_batch)).item()\n",
        "\n",
        "test_acc[0] = correct_total / len(testset.data)\n",
        "print(f'epoch: {0}, time: {0:.3f}s, Test accuracy: {test_acc[0]:.3f}')\n",
        "\n",
        "start = time.time()\n",
        "for epoch in range(1, num_epochs + 1):\n",
        "  # Iterate through the entire train set\n",
        "  for i, (x_batch, y_batch) in enumerate(trainloader):\n",
        "    x_batch, y_batch = x_batch.to(device), y_batch.to(device)  # Move the data to the device that is used\n",
        "\n",
        "    optimizerSGD.zero_grad()  # Set all currenly stored gradients to zero \n",
        "\n",
        "    y_pred = net(x_batch.view(-1, w * h))\n",
        "\n",
        "    loss = criterion(y_pred, y_batch)\n",
        "\n",
        "    loss.backward()\n",
        "\n",
        "    optimizerSGD.step()\n",
        "\n",
        "    # Compute relevant metrics\n",
        "        \n",
        "    y_pred_max = torch.argmax(y_pred, dim=1)  # Get the labels with highest output probability\n",
        "\n",
        "    correct = torch.sum(torch.eq(y_pred_max, y_batch)).item()  # Count how many are equal to the true labels\n",
        "\n",
        "    elapsed = time.time() - start  # Keep track of how much time has elapsed\n",
        "    \n",
        "  # Evaluate the model on the test set\n",
        "  correct_total = 0\n",
        "  for i, (x_batch, y_batch) in enumerate(testloader):\n",
        "    x_batch, y_batch = x_batch.to(device), y_batch.to(device)  # Move the data to the device that is used\n",
        "\n",
        "    y_pred = net(x_batch.view(-1, w * h))\n",
        "    y_pred_max = torch.argmax(y_pred, dim=1)\n",
        "\n",
        "    correct_total += torch.sum(torch.eq(y_pred_max, y_batch)).item()\n",
        "\n",
        "  test_acc[epoch] = correct_total / len(testset.data)\n",
        "  print(f'epoch: {epoch}, time: {elapsed:.3f}s, Test accuracy: {test_acc[epoch]:.3f}')"
      ],
      "execution_count": 7,
      "outputs": [
        {
          "output_type": "stream",
          "text": [
            "epoch: 0, time: 0.000s, Test accuracy: 0.163\n",
            "epoch: 1, time: 9.681s, Test accuracy: 0.883\n",
            "epoch: 2, time: 20.301s, Test accuracy: 0.908\n",
            "epoch: 3, time: 31.289s, Test accuracy: 0.917\n",
            "epoch: 4, time: 42.335s, Test accuracy: 0.928\n",
            "epoch: 5, time: 53.548s, Test accuracy: 0.931\n",
            "epoch: 6, time: 64.012s, Test accuracy: 0.937\n",
            "epoch: 7, time: 75.069s, Test accuracy: 0.940\n",
            "epoch: 8, time: 85.855s, Test accuracy: 0.944\n",
            "epoch: 9, time: 96.545s, Test accuracy: 0.948\n",
            "epoch: 10, time: 107.132s, Test accuracy: 0.951\n"
          ],
          "name": "stdout"
        }
      ]
    },
    {
      "cell_type": "markdown",
      "metadata": {
        "id": "QxtbJTCy3Pi_"
      },
      "source": [
        "\n",
        "### Plot test_acc"
      ]
    },
    {
      "cell_type": "code",
      "metadata": {
        "id": "E5ENyRVp3PjA",
        "colab": {
          "base_uri": "https://localhost:8080/",
          "height": 282
        },
        "outputId": "07f2a13a-2a58-49c0-ce22-f0120aa22939"
      },
      "source": [
        "%matplotlib inline\n",
        "\n",
        "epochs = np.arange(1,num_epochs+1)\n",
        "plt.plot(epochs,test_acc[1:])\n"
      ],
      "execution_count": 9,
      "outputs": [
        {
          "output_type": "execute_result",
          "data": {
            "text/plain": [
              "[<matplotlib.lines.Line2D at 0x7f4966039898>]"
            ]
          },
          "metadata": {
            "tags": []
          },
          "execution_count": 9
        },
        {
          "output_type": "display_data",
          "data": {
            "image/png": "[encoded data removed]",
            "text/plain": [
              "<Figure size 432x288 with 1 Axes>"
            ]
          },
          "metadata": {
            "tags": [],
            "needs_background": "light"
          }
        }
      ]
    },
    {
      "cell_type": "code",
      "metadata": {
        "id": "MZizXui6Odl4"
      },
      "source": [
        ""
      ],
      "execution_count": 8,
      "outputs": []
    },
    {
      "cell_type": "code",
      "metadata": {
        "id": "mdBldQHT3PjF"
      },
      "source": [
        ""
      ],
      "execution_count": 8,
      "outputs": []
    }
  ]
}