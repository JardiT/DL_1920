{
  "nbformat": 4,
  "nbformat_minor": 0,
  "metadata": {
    "kernelspec": {
      "display_name": "Python 3",
      "language": "python",
      "name": "python3"
    },
    "language_info": {
      "codemirror_mode": {
        "name": "ipython",
        "version": 3
      },
      "file_extension": ".py",
      "mimetype": "text/x-python",
      "name": "python",
      "nbconvert_exporter": "python",
      "pygments_lexer": "ipython3",
      "version": "3.6.3"
    },
    "colab": {
      "name": "Backpropagation_numpy.ipynb",
      "provenance": []
    }
  },
  "cells": [
    {
      "cell_type": "markdown",
      "metadata": {
        "id": "zz7hZbru0F9U"
      },
      "source": [
        "# Backpropagation in Multilayer Neural Networks\n",
        "\n",
        "### Goals: \n",
        "- Diving deep: implement a real gradient descent in `Numpy`\n",
        "\n",
        "### Dataset:\n",
        "- Similar as first Lab - Digits: 10 class handwritten digits\n",
        "- [sklearn.datasets.load_digits](http://scikit-learn.org/stable/modules/generated/sklearn.datasets.load_digits.html#sklearn.datasets.load_digits)"
      ]
    },
    {
      "cell_type": "code",
      "metadata": {
        "id": "aHzEqLiW0F9W"
      },
      "source": [
        "%matplotlib inline\n",
        "import matplotlib.pyplot as plt\n",
        "import numpy as np\n",
        "from sklearn.datasets import load_digits\n",
        "\n",
        "digits = load_digits()"
      ],
      "execution_count": 1,
      "outputs": []
    },
    {
      "cell_type": "code",
      "metadata": {
        "id": "K6kwcudk0F9Z",
        "outputId": "f57722bb-af4f-4e31-ffb7-7f0577b318c6",
        "colab": {
          "base_uri": "https://localhost:8080/",
          "height": 227
        }
      },
      "source": [
        "sample_index = 45\n",
        "plt.figure(figsize=(3, 3))\n",
        "plt.imshow(digits.images[sample_index], cmap=plt.cm.gray_r,\n",
        "           interpolation='nearest')\n",
        "plt.title(\"image label: %d\" % digits.target[sample_index]);"
      ],
      "execution_count": 2,
      "outputs": [
        {
          "output_type": "display_data",
          "data": {
            "image/png": "[encoded data removed]",
            "text/plain": [
              "<Figure size 216x216 with 1 Axes>"
            ]
          },
          "metadata": {
            "tags": [],
            "needs_background": "light"
          }
        }
      ]
    },
    {
      "cell_type": "markdown",
      "metadata": {
        "id": "SV7xne920F9b"
      },
      "source": [
        "### Preprocessing\n",
        "\n",
        "- Normalization\n",
        "- Train / test split"
      ]
    },
    {
      "cell_type": "code",
      "metadata": {
        "id": "FfGlhBWu0F9c"
      },
      "source": [
        "from sklearn import preprocessing\n",
        "from sklearn.model_selection import train_test_split\n",
        "\n",
        "data = np.asarray(digits.data, dtype='float32')\n",
        "target = np.asarray(digits.target, dtype='int32')\n",
        "\n",
        "X_train, X_test, y_train, y_test = train_test_split(\n",
        "    data, target, test_size=0.15, random_state=37)\n",
        "\n",
        "# mean = 0 ; standard deviation = 1.0\n",
        "scaler = preprocessing.StandardScaler()\n",
        "X_train = scaler.fit_transform(X_train)\n",
        "X_test = scaler.transform(X_test)\n",
        "\n",
        "# print(scaler.mean_)\n",
        "# print(scaler.scale_)"
      ],
      "execution_count": 7,
      "outputs": []
    },
    {
      "cell_type": "code",
      "metadata": {
        "id": "7dDx6xvT0F9f",
        "outputId": "8f90000f-4f9c-454d-8fb1-0351a2fc59ff",
        "colab": {
          "base_uri": "https://localhost:8080/"
        }
      },
      "source": [
        "X_train.shape"
      ],
      "execution_count": 8,
      "outputs": [
        {
          "output_type": "execute_result",
          "data": {
            "text/plain": [
              "(1527, 64)"
            ]
          },
          "metadata": {
            "tags": []
          },
          "execution_count": 8
        }
      ]
    },
    {
      "cell_type": "code",
      "metadata": {
        "id": "X-gWi6em0F9i",
        "outputId": "0a715504-05ae-4780-89c6-59543f3f22e4",
        "colab": {
          "base_uri": "https://localhost:8080/"
        }
      },
      "source": [
        "X_train.dtype"
      ],
      "execution_count": 9,
      "outputs": [
        {
          "output_type": "execute_result",
          "data": {
            "text/plain": [
              "dtype('float32')"
            ]
          },
          "metadata": {
            "tags": []
          },
          "execution_count": 9
        }
      ]
    },
    {
      "cell_type": "code",
      "metadata": {
        "id": "FF49cZ880F9k",
        "outputId": "1bcbc518-4438-4d15-99ec-d396b645bbc9",
        "colab": {
          "base_uri": "https://localhost:8080/"
        }
      },
      "source": [
        "X_test.shape"
      ],
      "execution_count": 10,
      "outputs": [
        {
          "output_type": "execute_result",
          "data": {
            "text/plain": [
              "(270, 64)"
            ]
          },
          "metadata": {
            "tags": []
          },
          "execution_count": 10
        }
      ]
    },
    {
      "cell_type": "code",
      "metadata": {
        "id": "Au_3daA20F9m",
        "outputId": "c988b01e-2f4b-4562-e7bc-76be4b4181b3",
        "colab": {
          "base_uri": "https://localhost:8080/"
        }
      },
      "source": [
        "y_train.shape"
      ],
      "execution_count": 12,
      "outputs": [
        {
          "output_type": "execute_result",
          "data": {
            "text/plain": [
              "(1527,)"
            ]
          },
          "metadata": {
            "tags": []
          },
          "execution_count": 12
        }
      ]
    },
    {
      "cell_type": "code",
      "metadata": {
        "id": "Efd9LWal0F9o",
        "outputId": "fdcf5836-63bc-4f29-f74e-1e5446b70654",
        "colab": {
          "base_uri": "https://localhost:8080/"
        }
      },
      "source": [
        "y_train.dtype"
      ],
      "execution_count": 13,
      "outputs": [
        {
          "output_type": "execute_result",
          "data": {
            "text/plain": [
              "dtype('int32')"
            ]
          },
          "metadata": {
            "tags": []
          },
          "execution_count": 13
        }
      ]
    },
    {
      "cell_type": "markdown",
      "metadata": {
        "id": "_OtEhhuQ0F9q"
      },
      "source": [
        "# Numpy Implementation\n",
        "\n",
        "## a) Logistic Regression\n",
        "\n",
        "In this section we will implement a logistic regression model trainable with SGD using numpy. Here are the objectives:\n",
        "\n",
        "- Implement a simple forward model with no hidden layer (equivalent to a logistic regression):\n",
        "note: shape, transpose of W with regards to course\n",
        "$y = softmax(\\mathbf{W} \\dot x + b)$\n",
        "\n",
        "- Build a predict function which returns the most probable class given an input $x$\n",
        "\n",
        "- Build an accuracy function for a batch of inputs $X$ and the corresponding expected outputs $y_{true}$\n",
        "\n",
        "- Build a grad function which computes $\\frac{d}{dW} -\\log(softmax(W \\dot x + b))$ for an $x$ and its corresponding expected output $y_{true}$ ; check that the gradients are well defined\n",
        "\n",
        "- Build a train function which uses the grad function output to update $\\mathbf{W}$ and $b$\n",
        "\n",
        "\n",
        "### One-hot encoding for class label data\n",
        "\n",
        "First let's define a helper function to compute the one hot encoding of an integer array for a fixed number of classes (similar to keras' `to_categorical`):"
      ]
    },
    {
      "cell_type": "code",
      "metadata": {
        "id": "PWra8N6f0F9q"
      },
      "source": [
        "def one_hot(n_classes, y):\n",
        "    return np.eye(n_classes)[y]"
      ],
      "execution_count": 14,
      "outputs": []
    },
    {
      "cell_type": "code",
      "metadata": {
        "id": "pFzZpoxG0F9s",
        "outputId": "f2db95e1-8294-4138-f5fa-9e4ef07581b1",
        "colab": {
          "base_uri": "https://localhost:8080/"
        }
      },
      "source": [
        "one_hot(n_classes=10, y=3)"
      ],
      "execution_count": 15,
      "outputs": [
        {
          "output_type": "execute_result",
          "data": {
            "text/plain": [
              "array([0., 0., 0., 1., 0., 0., 0., 0., 0., 0.])"
            ]
          },
          "metadata": {
            "tags": []
          },
          "execution_count": 15
        }
      ]
    },
    {
      "cell_type": "code",
      "metadata": {
        "id": "3so25o1U0F9u",
        "outputId": "44afa4df-a415-4a71-abf5-6384312afb8c",
        "colab": {
          "base_uri": "https://localhost:8080/"
        }
      },
      "source": [
        "one_hot(n_classes=10, y=[0, 4, 9, 1])"
      ],
      "execution_count": 16,
      "outputs": [
        {
          "output_type": "execute_result",
          "data": {
            "text/plain": [
              "array([[1., 0., 0., 0., 0., 0., 0., 0., 0., 0.],\n",
              "       [0., 0., 0., 0., 1., 0., 0., 0., 0., 0.],\n",
              "       [0., 0., 0., 0., 0., 0., 0., 0., 0., 1.],\n",
              "       [0., 1., 0., 0., 0., 0., 0., 0., 0., 0.]])"
            ]
          },
          "metadata": {
            "tags": []
          },
          "execution_count": 16
        }
      ]
    },
    {
      "cell_type": "markdown",
      "metadata": {
        "id": "d9y6mIjn0F9x"
      },
      "source": [
        "### The softmax function\n",
        "\n",
        "Now let's implement the softmax vector function:\n",
        "\n",
        "$$\n",
        "softmax(\\mathbf{x}) = \\frac{1}{\\sum_{i=1}^{n}{e^{x_i}}}\n",
        "\\cdot\n",
        "\\begin{bmatrix}\n",
        "  e^{x_1}\\\\\\\\\n",
        "  e^{x_2}\\\\\\\\\n",
        "  \\vdots\\\\\\\\\n",
        "  e^{x_n}\n",
        "\\end{bmatrix}\n",
        "$$"
      ]
    },
    {
      "cell_type": "code",
      "metadata": {
        "id": "2i3cpO8K0F9y"
      },
      "source": [
        "def softmax(X):\n",
        "    X = np.exp(X)\n",
        "    X /= np.sum(X,-1,keepdims=True)\n",
        "    return X"
      ],
      "execution_count": 39,
      "outputs": []
    },
    {
      "cell_type": "markdown",
      "metadata": {
        "id": "PNE8C0PU0F90"
      },
      "source": [
        "Make sure that this works one vector at a time (and check that the components sum to one):"
      ]
    },
    {
      "cell_type": "code",
      "metadata": {
        "id": "ovBHhRYH0F90",
        "outputId": "cca2fbd9-ba44-437a-d901-e65dfba4d74e",
        "colab": {
          "base_uri": "https://localhost:8080/"
        }
      },
      "source": [
        "print(softmax([10, 2, -3]))"
      ],
      "execution_count": 40,
      "outputs": [
        {
          "output_type": "stream",
          "text": [
            "[9.99662391e-01 3.35349373e-04 2.25956630e-06]\n"
          ],
          "name": "stdout"
        }
      ]
    },
    {
      "cell_type": "markdown",
      "metadata": {
        "id": "oRXS-Ye10F92"
      },
      "source": [
        "Note that a naive implementation of softmax might not be able process a batch of activations in a single call:"
      ]
    },
    {
      "cell_type": "code",
      "metadata": {
        "id": "5lTXnHmw0F92",
        "outputId": "48e2b611-ade5-4a09-b6ba-d0aee1e9803b",
        "colab": {
          "base_uri": "https://localhost:8080/"
        }
      },
      "source": [
        "X = np.array([[10, 2, -3],\n",
        "              [-1, 5, -20]])\n",
        "print(softmax(X))"
      ],
      "execution_count": 41,
      "outputs": [
        {
          "output_type": "stream",
          "text": [
            "[[9.99662391e-01 3.35349373e-04 2.25956630e-06]\n",
            " [2.47262316e-03 9.97527377e-01 1.38536042e-11]]\n"
          ],
          "name": "stdout"
        }
      ]
    },
    {
      "cell_type": "markdown",
      "metadata": {
        "id": "QfZy12ZI0F94"
      },
      "source": [
        "Here is a way to implement softmax that works both for an individual vector of activations and for a batch of activation vectors at once:"
      ]
    },
    {
      "cell_type": "code",
      "metadata": {
        "id": "4cFCY-Tj0F95",
        "outputId": "fc32d04a-37a9-4344-be96-f788e2729db2",
        "colab": {
          "base_uri": "https://localhost:8080/"
        }
      },
      "source": [
        "def softmax(X):\n",
        "    exp = np.exp(X)\n",
        "    return exp / np.sum(exp, axis=-1, keepdims=True)\n",
        "\n",
        "\n",
        "print(\"softmax of a single vector:\")\n",
        "print(softmax([10, 2, -3]))"
      ],
      "execution_count": 42,
      "outputs": [
        {
          "output_type": "stream",
          "text": [
            "softmax of a single vector:\n",
            "[9.99662391e-01 3.35349373e-04 2.25956630e-06]\n"
          ],
          "name": "stdout"
        }
      ]
    },
    {
      "cell_type": "markdown",
      "metadata": {
        "id": "pvwPBrCL0F97"
      },
      "source": [
        "Probabilities should sum to 1:"
      ]
    },
    {
      "cell_type": "code",
      "metadata": {
        "id": "GSv8Mpkv0F97",
        "outputId": "75ac624e-c6a3-4e3b-da9d-d1df1479944a",
        "colab": {
          "base_uri": "https://localhost:8080/"
        }
      },
      "source": [
        "print(np.sum(softmax([10, 2, -3])))"
      ],
      "execution_count": 43,
      "outputs": [
        {
          "output_type": "stream",
          "text": [
            "1.0\n"
          ],
          "name": "stdout"
        }
      ]
    },
    {
      "cell_type": "code",
      "metadata": {
        "id": "V96bPjge0F99",
        "outputId": "e99c373a-77e7-4798-9317-6a2515e24f9d",
        "colab": {
          "base_uri": "https://localhost:8080/"
        }
      },
      "source": [
        "print(\"sotfmax of 2 vectors:\")\n",
        "X = np.array([[10, 2, -3],\n",
        "              [-1, 5, -20]])\n",
        "print(softmax(X))"
      ],
      "execution_count": 44,
      "outputs": [
        {
          "output_type": "stream",
          "text": [
            "sotfmax of 2 vectors:\n",
            "[[9.99662391e-01 3.35349373e-04 2.25956630e-06]\n",
            " [2.47262316e-03 9.97527377e-01 1.38536042e-11]]\n"
          ],
          "name": "stdout"
        }
      ]
    },
    {
      "cell_type": "markdown",
      "metadata": {
        "id": "iQZlAEea0F9_"
      },
      "source": [
        "The sum of probabilities for each input vector of logits should some to 1:"
      ]
    },
    {
      "cell_type": "code",
      "metadata": {
        "id": "IxH6kev00F-A",
        "outputId": "e498f76d-4179-4ad5-ae2f-6483bd144af7",
        "colab": {
          "base_uri": "https://localhost:8080/"
        }
      },
      "source": [
        "print(np.sum(softmax(X), axis=1))"
      ],
      "execution_count": 45,
      "outputs": [
        {
          "output_type": "stream",
          "text": [
            "[1. 1.]\n"
          ],
          "name": "stdout"
        }
      ]
    },
    {
      "cell_type": "markdown",
      "metadata": {
        "id": "htBiuTkz0F-F"
      },
      "source": [
        "Implement a function that given the true one-hot encoded class `Y_true` and and some predicted probabilities `Y_pred` returns the negative log likelihood."
      ]
    },
    {
      "cell_type": "code",
      "metadata": {
        "id": "xndNqRFz0F-G",
        "outputId": "144b919c-1b14-40ad-c149-6093b065ffb5",
        "colab": {
          "base_uri": "https://localhost:8080/"
        }
      },
      "source": [
        "def nll(Y_true, Y_pred):\n",
        "    Y_true = np.asarray(Y_true)\n",
        "    Y_pred = np.asarray(Y_pred)\n",
        "    \n",
        "    likelihood = np.sum(Y_true*Y_pred)\n",
        "    nll = -np.log(likelihood)\n",
        "    return nll\n",
        "\n",
        "\n",
        "# Make sure that it works for a simple sample at a time\n",
        "print(nll([1, 0, 0], [.99, 0.01, 0]))"
      ],
      "execution_count": 56,
      "outputs": [
        {
          "output_type": "stream",
          "text": [
            "0.01005033585350145\n"
          ],
          "name": "stdout"
        }
      ]
    },
    {
      "cell_type": "markdown",
      "metadata": {
        "id": "2YLycSVx0F-J"
      },
      "source": [
        "Check that the nll of a very confident yet bad prediction is a much higher positive number:"
      ]
    },
    {
      "cell_type": "code",
      "metadata": {
        "id": "I9qW3lr40F-K",
        "outputId": "da18f191-1d04-43fd-a67d-190c7599a80f",
        "colab": {
          "base_uri": "https://localhost:8080/"
        }
      },
      "source": [
        "print(nll([1, 0, 0], [0.01, 0.01, .98]))"
      ],
      "execution_count": 57,
      "outputs": [
        {
          "output_type": "stream",
          "text": [
            "4.605170185988091\n"
          ],
          "name": "stdout"
        }
      ]
    },
    {
      "cell_type": "markdown",
      "metadata": {
        "id": "90KkzqlY0F-M"
      },
      "source": [
        "Make sure that your implementation can compute the average negative log likelihood of a group of predictions: `Y_pred` and `Y_true` can therefore be past as 2D arrays:"
      ]
    },
    {
      "cell_type": "code",
      "metadata": {
        "id": "WrrW59fS0F-N"
      },
      "source": [
        "def nll(Y_true, Y_pred):\n",
        "    Y_true = np.atleast_2d(Y_true)\n",
        "    Y_pred = np.atleast_2d(Y_pred)\n",
        "\n",
        "    likelihood = np.sum(Y_true*Y_pred,-1,keepdims=True)\n",
        "    nll = -np.log(likelihood)\n",
        "    return np.mean(nll)"
      ],
      "execution_count": 63,
      "outputs": []
    },
    {
      "cell_type": "code",
      "metadata": {
        "id": "gtdK2a2y0F-P",
        "outputId": "3ef4e9af-886b-4d23-daa6-83da57f17b71",
        "colab": {
          "base_uri": "https://localhost:8080/"
        }
      },
      "source": [
        "# Check that the average NLL of the following 3 almost perfect\n",
        "# predictions is close to 0\n",
        "Y_true = np.array([[0, 1, 0],\n",
        "                   [1, 0, 0],\n",
        "                   [0, 0, 1]])\n",
        "\n",
        "Y_pred = np.array([[0,   1,    0],\n",
        "                   [.99, 0.01, 0],\n",
        "                   [0,   0,    1]])\n",
        "\n",
        "print(nll(Y_true, Y_pred))"
      ],
      "execution_count": 64,
      "outputs": [
        {
          "output_type": "stream",
          "text": [
            "0.00335011195116715\n"
          ],
          "name": "stdout"
        }
      ]
    },
    {
      "cell_type": "code",
      "metadata": {
        "id": "aKCGrgX40F-S"
      },
      "source": [
        ""
      ],
      "execution_count": null,
      "outputs": []
    },
    {
      "cell_type": "markdown",
      "metadata": {
        "id": "Kvvt2Kex0F-U"
      },
      "source": [
        "Let us now study the following linear model trainable by SGD, **one sample at a time**."
      ]
    },
    {
      "cell_type": "code",
      "metadata": {
        "id": "C0HNXRZX0F-U"
      },
      "source": [
        "class LogisticRegression():\n",
        "\n",
        "    def __init__(self, input_size, output_size):\n",
        "        self.W = np.random.uniform(size=(input_size, output_size),\n",
        "                                   high=0.1, low=-0.1)\n",
        "        self.b = np.random.uniform(size=output_size,\n",
        "                                   high=0.1, low=-0.1)\n",
        "        self.output_size = output_size\n",
        "        \n",
        "    def forward(self, X):\n",
        "        Z = np.dot(X, self.W) + self.b\n",
        "        return softmax(Z)\n",
        "    \n",
        "    def predict(self, X):\n",
        "        if len(X.shape) == 1:\n",
        "            return np.argmax(self.forward(X))\n",
        "        else:\n",
        "            return np.argmax(self.forward(X), axis=1)\n",
        "    \n",
        "    def grad_loss(self, x, y_true):\n",
        "        y_pred = self.forward(x)\n",
        "        dnll_output =  y_pred - one_hot(self.output_size, y_true)\n",
        "        grad_W = np.outer(x, dnll_output)\n",
        "        grad_b = dnll_output\n",
        "        grads = {\"W\": grad_W, \"b\": grad_b}\n",
        "        return grads\n",
        "    \n",
        "    def train(self, x, y, learning_rate):\n",
        "        # Traditional SGD update without momentum\n",
        "        grads = self.grad_loss(x, y)\n",
        "        self.W = self.W - learning_rate * grads[\"W\"]\n",
        "        self.b = self.b - learning_rate * grads[\"b\"]      \n",
        "        \n",
        "    def loss(self, x, y):\n",
        "        return nll(one_hot(self.output_size, y), self.forward(x))\n",
        "\n",
        "    def accuracy(self, X, y):\n",
        "        y_preds = np.argmax(self.forward(X), axis=1)\n",
        "        return np.mean(y_preds == y)"
      ],
      "execution_count": 65,
      "outputs": []
    },
    {
      "cell_type": "code",
      "metadata": {
        "id": "DCup8hXh0F-W",
        "outputId": "8e8dc44b-175f-43cb-dfaa-e5483fd78673",
        "colab": {
          "base_uri": "https://localhost:8080/"
        }
      },
      "source": [
        "# Build a model and test its forward inference\n",
        "n_features = X_train.shape[1]\n",
        "n_classes = len(np.unique(y_train))\n",
        "lr = LogisticRegression(n_features, n_classes)\n",
        "\n",
        "print(\"Evaluation of the untrained model:\")\n",
        "train_loss = lr.loss(X_train, y_train)\n",
        "train_acc = lr.accuracy(X_train, y_train)\n",
        "test_acc = lr.accuracy(X_test, y_test)\n",
        "\n",
        "print(\"train loss: %0.4f, train acc: %0.3f, test acc: %0.3f\"\n",
        "      % (train_loss, train_acc, test_acc))"
      ],
      "execution_count": 67,
      "outputs": [
        {
          "output_type": "stream",
          "text": [
            "Evaluation of the untrained model:\n",
            "train loss: 2.2639, train acc: 0.156, test acc: 0.144\n"
          ],
          "name": "stdout"
        }
      ]
    },
    {
      "cell_type": "markdown",
      "metadata": {
        "id": "f0I5aVCY0F-Y"
      },
      "source": [
        "Evaluate the randomly initialized model on the first example:"
      ]
    },
    {
      "cell_type": "code",
      "metadata": {
        "id": "l562Nqo50F-Y",
        "outputId": "57dc1ff9-117f-4c3c-d6ea-b630ff85970e",
        "colab": {
          "base_uri": "https://localhost:8080/",
          "height": 295
        }
      },
      "source": [
        "def plot_prediction(model, sample_idx=0, classes=range(10)):\n",
        "    fig, (ax0, ax1) = plt.subplots(nrows=1, ncols=2, figsize=(10, 4))\n",
        "\n",
        "    ax0.imshow(scaler.inverse_transform(X_test[sample_idx]).reshape(8, 8), cmap=plt.cm.gray_r,\n",
        "               interpolation='nearest')\n",
        "    ax0.set_title(\"True image label: %d\" % y_test[sample_idx]);\n",
        "\n",
        "\n",
        "    ax1.bar(classes, one_hot(len(classes), y_test[sample_idx]), label='true')\n",
        "    ax1.bar(classes, model.forward(X_test[sample_idx]), label='prediction', color=\"red\")\n",
        "    ax1.set_xticks(classes)\n",
        "    prediction = model.predict(X_test[sample_idx])\n",
        "    ax1.set_title('Output probabilities (prediction: %d)'\n",
        "                  % prediction)\n",
        "    ax1.set_xlabel('Digit class')\n",
        "    ax1.legend()\n",
        "    \n",
        "plot_prediction(lr, sample_idx=0)"
      ],
      "execution_count": 68,
      "outputs": [
        {
          "output_type": "display_data",
          "data": {
            "image/png": "[encoded data removed]",
            "text/plain": [
              "<Figure size 720x288 with 2 Axes>"
            ]
          },
          "metadata": {
            "tags": [],
            "needs_background": "light"
          }
        }
      ]
    },
    {
      "cell_type": "code",
      "metadata": {
        "id": "xS3HBIxO0F-a",
        "outputId": "1c1b7d58-2033-46ab-827e-7043999eb97e",
        "colab": {
          "base_uri": "https://localhost:8080/"
        }
      },
      "source": [
        "# Training for one epoch\n",
        "learning_rate = 0.01\n",
        "\n",
        "for i, (x, y) in enumerate(zip(X_train, y_train)):\n",
        "    lr.train(x, y, learning_rate)\n",
        "    if i % 100 == 0:\n",
        "        train_loss = lr.loss(X_train, y_train)\n",
        "        train_acc = lr.accuracy(X_train, y_train)\n",
        "        test_acc = lr.accuracy(X_test, y_test)\n",
        "        print(\"Update #%d, train loss: %0.4f, train acc: %0.3f, test acc: %0.3f\"\n",
        "              % (i, train_loss, train_acc, test_acc))"
      ],
      "execution_count": 69,
      "outputs": [
        {
          "output_type": "stream",
          "text": [
            "Update #0, train loss: 2.2443, train acc: 0.172, test acc: 0.159\n",
            "Update #100, train loss: 1.2776, train acc: 0.671, test acc: 0.707\n",
            "Update #200, train loss: 0.8445, train acc: 0.858, test acc: 0.874\n",
            "Update #300, train loss: 0.6259, train acc: 0.904, test acc: 0.911\n",
            "Update #400, train loss: 0.5250, train acc: 0.904, test acc: 0.907\n",
            "Update #500, train loss: 0.4558, train acc: 0.916, test acc: 0.915\n",
            "Update #600, train loss: 0.3968, train acc: 0.925, test acc: 0.926\n",
            "Update #700, train loss: 0.3599, train acc: 0.933, test acc: 0.941\n",
            "Update #800, train loss: 0.3398, train acc: 0.940, test acc: 0.952\n",
            "Update #900, train loss: 0.3156, train acc: 0.940, test acc: 0.952\n",
            "Update #1000, train loss: 0.2957, train acc: 0.945, test acc: 0.948\n",
            "Update #1100, train loss: 0.2786, train acc: 0.948, test acc: 0.948\n",
            "Update #1200, train loss: 0.2684, train acc: 0.950, test acc: 0.952\n",
            "Update #1300, train loss: 0.2585, train acc: 0.950, test acc: 0.937\n",
            "Update #1400, train loss: 0.2444, train acc: 0.956, test acc: 0.944\n",
            "Update #1500, train loss: 0.2303, train acc: 0.955, test acc: 0.944\n"
          ],
          "name": "stdout"
        }
      ]
    },
    {
      "cell_type": "markdown",
      "metadata": {
        "id": "3rq7ve3X0F-d"
      },
      "source": [
        "Evaluate the trained model on the first example:"
      ]
    },
    {
      "cell_type": "code",
      "metadata": {
        "id": "Znaj2mr70F-e",
        "outputId": "de55b5fe-bc33-42d4-e655-8549706c1577",
        "colab": {
          "base_uri": "https://localhost:8080/",
          "height": 295
        }
      },
      "source": [
        "plot_prediction(lr, sample_idx=0)"
      ],
      "execution_count": 70,
      "outputs": [
        {
          "output_type": "display_data",
          "data": {
            "image/png": "[encoded data removed]",
            "text/plain": [
              "<Figure size 720x288 with 2 Axes>"
            ]
          },
          "metadata": {
            "tags": [],
            "needs_background": "light"
          }
        }
      ]
    },
    {
      "cell_type": "markdown",
      "metadata": {
        "id": "kQTvhGGn0F-i"
      },
      "source": [
        "## b) Feedforward Multilayer\n",
        "\n",
        "The objective of this section is to implement the backpropagation algorithm (SGD with the chain rule) on a single layer neural network using the sigmoid activation function.\n",
        "\n",
        "- Implement the `sigmoid` and its element-wise derivative `dsigmoid` functions:\n",
        "\n",
        "$$\n",
        "sigmoid(x) = \\frac{1}{1 + e^{-x}}\n",
        "$$\n",
        "\n",
        "$$\n",
        "dsigmoid(x) = sigmoid(x) \\cdot (1 - sigmoid(x))\n",
        "$$"
      ]
    },
    {
      "cell_type": "code",
      "metadata": {
        "id": "WrRfJtxw0F-j",
        "outputId": "40078787-7b60-4bfe-85a8-91b656f38114",
        "colab": {
          "base_uri": "https://localhost:8080/",
          "height": 265
        }
      },
      "source": [
        "def sigmoid(X):\n",
        "    return 1/(1+np.exp(-X))\n",
        "\n",
        "\n",
        "def dsigmoid(X):\n",
        "    return sigmoid(X)*(1-sigmoid(X))\n",
        "\n",
        "\n",
        "x = np.linspace(-5, 5, 100)\n",
        "plt.plot(x, sigmoid(x), label='sigmoid')\n",
        "plt.plot(x, dsigmoid(x), label='dsigmoid')\n",
        "plt.legend(loc='best');"
      ],
      "execution_count": null,
      "outputs": [
        {
          "output_type": "display_data",
          "data": {
            "image/png": "[encoded data removed]",
            "text/plain": [
              "<Figure size 432x288 with 1 Axes>"
            ]
          },
          "metadata": {
            "tags": []
          }
        }
      ]
    },
    {
      "cell_type": "code",
      "metadata": {
        "id": "DlKBOzGs0F-m"
      },
      "source": [
        ""
      ],
      "execution_count": null,
      "outputs": []
    },
    {
      "cell_type": "markdown",
      "metadata": {
        "id": "Sp2aqE-g0F-r"
      },
      "source": [
        "- Implement `forward` and `forward_keep_all` functions for a model with a hidden layer with a sigmoid activation function:\n",
        "  - $\\mathbf{h} = sigmoid(\\mathbf{W}^h \\mathbf{x} + \\mathbf{b^h})$\n",
        "  - $\\mathbf{y} = softmax(\\mathbf{W}^o \\mathbf{h} + \\mathbf{b^o})$\n",
        "\n",
        "- Notes: \n",
        "  - try to keep the code as similar as possible as the previous one;\n",
        "  - `forward_keep_activations` is similar to forward, but also returns hidden activations and pre activations;\n",
        "\n",
        "- Update the grad function to compute all gradients; check that the gradients are well defined;\n",
        "\n",
        "- Implement the `train` and `loss` functions.\n",
        "\n",
        "**Bonus**: reimplementing all from scratch only using the lecture slides but without looking at the solution of the `LogisticRegression` is an excellent exercise."
      ]
    },
    {
      "cell_type": "code",
      "metadata": {
        "id": "Yr4Ik8nK0F-s"
      },
      "source": [
        "EPSILON = 1e-8\n",
        "\n",
        "\n",
        "class NeuralNet():\n",
        "    \"\"\"MLP with 1 hidden layer with a sigmoid activation\"\"\"\n",
        "    \n",
        "    def __init__(self, input_size, hidden_size, output_size):\n",
        "        # TODO\n",
        "        self.W_h = None\n",
        "        self.b_h = None\n",
        "        self.W_o = None\n",
        "        self.b_o = None\n",
        "        self.output_size = output_size\n",
        "        \n",
        "    def forward(self, X):\n",
        "        # TODO\n",
        "        if len(X.shape) == 1:\n",
        "            return np.random.uniform(size=self.output_size,\n",
        "                                     high=1.0-EPSILON, low=EPSILON)\n",
        "        else:\n",
        "            return np.random.uniform(size=(X.shape[0], self.output_size),\n",
        "                                     high=1.0-EPSILON, low=EPSILON)\n",
        "    \n",
        "    def forward_keep_activations(self, X):\n",
        "        # TODO\n",
        "        z_h = 0.\n",
        "        h = 0.\n",
        "        y = np.random.uniform(size=self.output_size,\n",
        "                              high=1.0-EPSILON, low=EPSILON)\n",
        "        return y, h, z_h\n",
        "    \n",
        "    def loss(self, X, y):\n",
        "        # TODO\n",
        "        return 42.\n",
        "\n",
        "    def grad_loss(self, x, y_true):\n",
        "        # TODO\n",
        "        return {\"W_h\": 0., \"b_h\": 0., \"W_o\": 0., \"b_o\": 0.}\n",
        "\n",
        "    def train(self, x, y, learning_rate):\n",
        "        # TODO\n",
        "        pass\n",
        "\n",
        "    def predict(self, X):\n",
        "        if len(X.shape) == 1:\n",
        "            return np.argmax(self.forward(x))\n",
        "        else:\n",
        "            return np.argmax(self.forward(x), axis=1)\n",
        "\n",
        "    def accuracy(self, X, y):\n",
        "        y_preds = np.argmax(self.forward(X), axis=1)\n",
        "        return np.mean(y_preds == y)"
      ],
      "execution_count": null,
      "outputs": []
    },
    {
      "cell_type": "code",
      "metadata": {
        "id": "kxU6SBDo0F-u"
      },
      "source": [
        ""
      ],
      "execution_count": null,
      "outputs": []
    },
    {
      "cell_type": "code",
      "metadata": {
        "id": "Nf2YlUPY0F-v"
      },
      "source": [
        "n_hidden = 10\n",
        "model = NeuralNet(n_features, n_hidden, n_classes)"
      ],
      "execution_count": null,
      "outputs": []
    },
    {
      "cell_type": "code",
      "metadata": {
        "id": "0z75P2rt0F-1",
        "outputId": "0e70fbff-6bc8-459c-89eb-6eb9903533f5",
        "colab": {
          "base_uri": "https://localhost:8080/",
          "height": 34
        }
      },
      "source": [
        "model.loss(X_train, y_train)"
      ],
      "execution_count": null,
      "outputs": [
        {
          "output_type": "execute_result",
          "data": {
            "text/plain": [
              "42.0"
            ]
          },
          "metadata": {
            "tags": []
          },
          "execution_count": 31
        }
      ]
    },
    {
      "cell_type": "code",
      "metadata": {
        "id": "0VMBD3750F-5",
        "outputId": "11d2c72b-a44f-49f0-a5d2-0182a67fccca",
        "colab": {
          "base_uri": "https://localhost:8080/",
          "height": 34
        }
      },
      "source": [
        "model.accuracy(X_train, y_train)"
      ],
      "execution_count": null,
      "outputs": [
        {
          "output_type": "execute_result",
          "data": {
            "text/plain": [
              "0.09299279633267846"
            ]
          },
          "metadata": {
            "tags": []
          },
          "execution_count": 32
        }
      ]
    },
    {
      "cell_type": "code",
      "metadata": {
        "id": "MLStiVf90F-9",
        "outputId": "cd6f2faf-7569-4f4c-cba7-e154cd69974a",
        "colab": {
          "base_uri": "https://localhost:8080/",
          "height": 295
        }
      },
      "source": [
        "plot_prediction(model, sample_idx=5)"
      ],
      "execution_count": null,
      "outputs": [
        {
          "output_type": "display_data",
          "data": {
            "image/png": "[encoded data removed]",
            "text/plain": [
              "<Figure size 720x288 with 2 Axes>"
            ]
          },
          "metadata": {
            "tags": []
          }
        }
      ]
    },
    {
      "cell_type": "code",
      "metadata": {
        "id": "g-kkszSR0F_B",
        "outputId": "be9fc607-cf4d-4dc6-fd48-0ea97b935d9f",
        "colab": {
          "base_uri": "https://localhost:8080/",
          "height": 289
        }
      },
      "source": [
        "losses, accuracies, accuracies_test = [], [], []\n",
        "losses.append(model.loss(X_train, y_train))\n",
        "accuracies.append(model.accuracy(X_train, y_train))\n",
        "accuracies_test.append(model.accuracy(X_test, y_test))\n",
        "\n",
        "print(\"Random init: train loss: %0.5f, train acc: %0.3f, test acc: %0.3f\"\n",
        "      % (losses[-1], accuracies[-1], accuracies_test[-1]))\n",
        "\n",
        "for epoch in range(15):\n",
        "    for i, (x, y) in enumerate(zip(X_train, y_train)):\n",
        "        model.train(x, y, 0.1)\n",
        "\n",
        "    losses.append(model.loss(X_train, y_train))\n",
        "    accuracies.append(model.accuracy(X_train, y_train))\n",
        "    accuracies_test.append(model.accuracy(X_test, y_test))\n",
        "    print(\"Epoch #%d, train loss: %0.5f, train acc: %0.3f, test acc: %0.3f\"\n",
        "          % (epoch + 1, losses[-1], accuracies[-1], accuracies_test[-1]))"
      ],
      "execution_count": null,
      "outputs": [
        {
          "output_type": "stream",
          "text": [
            "Random init: train loss: 42.00000, train acc: 0.089, test acc: 0.111\n",
            "Epoch #1, train loss: 42.00000, train acc: 0.090, test acc: 0.096\n",
            "Epoch #2, train loss: 42.00000, train acc: 0.095, test acc: 0.100\n",
            "Epoch #3, train loss: 42.00000, train acc: 0.089, test acc: 0.078\n",
            "Epoch #4, train loss: 42.00000, train acc: 0.103, test acc: 0.093\n",
            "Epoch #5, train loss: 42.00000, train acc: 0.120, test acc: 0.137\n",
            "Epoch #6, train loss: 42.00000, train acc: 0.083, test acc: 0.115\n",
            "Epoch #7, train loss: 42.00000, train acc: 0.102, test acc: 0.093\n",
            "Epoch #8, train loss: 42.00000, train acc: 0.099, test acc: 0.100\n",
            "Epoch #9, train loss: 42.00000, train acc: 0.087, test acc: 0.093\n",
            "Epoch #10, train loss: 42.00000, train acc: 0.119, test acc: 0.107\n",
            "Epoch #11, train loss: 42.00000, train acc: 0.091, test acc: 0.078\n",
            "Epoch #12, train loss: 42.00000, train acc: 0.092, test acc: 0.119\n",
            "Epoch #13, train loss: 42.00000, train acc: 0.109, test acc: 0.104\n",
            "Epoch #14, train loss: 42.00000, train acc: 0.105, test acc: 0.122\n",
            "Epoch #15, train loss: 42.00000, train acc: 0.096, test acc: 0.074\n"
          ],
          "name": "stdout"
        }
      ]
    },
    {
      "cell_type": "code",
      "metadata": {
        "id": "YT1geYwH0F_K",
        "outputId": "243c0d7c-8b9b-45d3-cd98-a5673c57ef34",
        "colab": {
          "base_uri": "https://localhost:8080/",
          "height": 281
        }
      },
      "source": [
        "plt.plot(losses)\n",
        "plt.title(\"Training loss\");"
      ],
      "execution_count": null,
      "outputs": [
        {
          "output_type": "display_data",
          "data": {
            "image/png": "[encoded data removed]",
            "text/plain": [
              "<Figure size 432x288 with 1 Axes>"
            ]
          },
          "metadata": {
            "tags": []
          }
        }
      ]
    },
    {
      "cell_type": "code",
      "metadata": {
        "id": "yAxAjklY0F_O",
        "outputId": "dcd2ecc5-d574-47fa-c3a1-4283596c7a3d",
        "colab": {
          "base_uri": "https://localhost:8080/",
          "height": 265
        }
      },
      "source": [
        "plt.plot(accuracies, label='train')\n",
        "plt.plot(accuracies_test, label='test')\n",
        "plt.ylim(0, 1.1)\n",
        "plt.ylabel(\"accuracy\")\n",
        "plt.legend(loc='best');"
      ],
      "execution_count": null,
      "outputs": [
        {
          "output_type": "display_data",
          "data": {
            "image/png": "[encoded data removed]",
            "text/plain": [
              "<Figure size 432x288 with 1 Axes>"
            ]
          },
          "metadata": {
            "tags": []
          }
        }
      ]
    },
    {
      "cell_type": "code",
      "metadata": {
        "id": "teka2Trf0F_U",
        "outputId": "e02bc33e-8ff4-432b-9753-5a3a0343aff9",
        "colab": {
          "base_uri": "https://localhost:8080/",
          "height": 295
        }
      },
      "source": [
        "plot_prediction(model, sample_idx=4)"
      ],
      "execution_count": null,
      "outputs": [
        {
          "output_type": "display_data",
          "data": {
            "image/png": "[encoded data removed]",
            "text/plain": [
              "<Figure size 720x288 with 2 Axes>"
            ]
          },
          "metadata": {
            "tags": []
          }
        }
      ]
    },
    {
      "cell_type": "markdown",
      "metadata": {
        "id": "t7GBnul60F_Z"
      },
      "source": [
        "## c) Exercises\n",
        "\n",
        "### Look at worst prediction errors\n",
        "\n",
        "- Use numpy to find test samples for which the model made the worst predictions,\n",
        "- Use the `plot_prediction` to look at the model predictions on those,\n",
        "- Would you have done any better?"
      ]
    },
    {
      "cell_type": "code",
      "metadata": {
        "id": "Tr2dDO850F_a"
      },
      "source": [
        ""
      ],
      "execution_count": null,
      "outputs": []
    },
    {
      "cell_type": "markdown",
      "metadata": {
        "id": "o3ol0nuQ0F_b"
      },
      "source": [
        "### Hyper parameters settings\n",
        "\n",
        "- Experiment with different hyper parameters:\n",
        "  - learning rate,\n",
        "  - size of hidden layer,\n",
        "  - initialization scheme: test with 0 initialization vs uniform,\n",
        "  - implement other activation functions,\n",
        "  - implement the support for a second hidden layer.\n",
        "\n",
        "\n",
        "### Mini-batches\n",
        "\n",
        "- The current implementations of `train` and `grad_loss` function currently only accept a single sample at a time:\n",
        "    - implement the support for training with a mini-batch of 32 samples at a time instead of one,\n",
        "    - experiment with different sizes of batches,\n",
        "    - monitor the norm of the average gradients on the full training set at the end of each epoch.\n",
        "\n",
        "\n",
        "### Momentum\n",
        "\n",
        "- Bonus: Implement momentum\n",
        "\n"
      ]
    },
    {
      "cell_type": "code",
      "metadata": {
        "id": "ekqeE4TG0F_c"
      },
      "source": [
        ""
      ],
      "execution_count": null,
      "outputs": []
    },
    {
      "cell_type": "markdown",
      "metadata": {
        "id": "9IQgjE__0F_i"
      },
      "source": [
        "## Homework assignments\n",
        "\n",
        "- Watch the following video on [how to code a minimal deep learning framework](https://www.youtube.com/watch?v=o64FV-ez6Gw)"
      ]
    },
    {
      "cell_type": "code",
      "metadata": {
        "id": "FkkOsLAu0F_i"
      },
      "source": [
        "from IPython.display import YouTubeVideo\n",
        "YouTubeVideo(\"o64FV-ez6Gw\")"
      ],
      "execution_count": null,
      "outputs": []
    },
    {
      "cell_type": "markdown",
      "metadata": {
        "id": "oVc01qW50F_j"
      },
      "source": [
        "- **Optional**: read the following blog post on Reverse-Mode Automatic Differentiation from start to section \"A simple implementation in Python\" included:\n",
        "\n",
        "  https://rufflewind.com/2016-12-30/reverse-mode-automatic-differentiation"
      ]
    }
  ]
}