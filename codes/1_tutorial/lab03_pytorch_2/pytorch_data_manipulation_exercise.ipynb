{
  "nbformat": 4,
  "nbformat_minor": 0,
  "metadata": {
    "kernelspec": {
      "display_name": "Python 3",
      "language": "python",
      "name": "python3"
    },
    "language_info": {
      "codemirror_mode": {
        "name": "ipython",
        "version": 3
      },
      "file_extension": ".py",
      "mimetype": "text/x-python",
      "name": "python",
      "nbconvert_exporter": "python",
      "pygments_lexer": "ipython3",
      "version": "3.6.6"
    },
    "colab": {
      "name": "pytorch_data_manipulation_exercise.ipynb",
      "provenance": [],
      "collapsed_sections": []
    }
  },
  "cells": [
    {
      "cell_type": "markdown",
      "metadata": {
        "id": "GSKx6-wsV73s"
      },
      "source": [
        "# Lab 03: Manipulate PyTorch Tensors - resizing and slicing"
      ]
    },
    {
      "cell_type": "code",
      "metadata": {
        "id": "zx94ct8sV73w"
      },
      "source": [
        "import torch"
      ],
      "execution_count": 30,
      "outputs": []
    },
    {
      "cell_type": "markdown",
      "metadata": {
        "id": "QfLWBZk8V734"
      },
      "source": [
        "### Make a 10 x 2 matrix random matrix A. Then store its third row (index = 2) in to a vector v. Then store the first 5 rows (index 0 to index 4)  into a submatrix B. The important information is that B has a total of five rows. Print A, v and B."
      ]
    },
    {
      "cell_type": "code",
      "metadata": {
        "id": "vKX_NjLaV737",
        "outputId": "e5e0dec7-fd30-41dd-e8e7-9efeef5f131b",
        "colab": {
          "base_uri": "https://localhost:8080/"
        }
      },
      "source": [
        "A = torch.rand(10,2)\n",
        "v = A[2]\n",
        "B = A[0:5]\n",
        "\n",
        "print(A)\n",
        "print(v)\n",
        "print(B)"
      ],
      "execution_count": 31,
      "outputs": [
        {
          "output_type": "stream",
          "text": [
            "tensor([[0.9481, 0.8472],\n",
            "        [0.9485, 0.7872],\n",
            "        [0.5169, 0.0539],\n",
            "        [0.4674, 0.9406],\n",
            "        [0.0683, 0.7038],\n",
            "        [0.0483, 0.2186],\n",
            "        [0.1618, 0.9780],\n",
            "        [0.4928, 0.2415],\n",
            "        [0.9376, 0.3111],\n",
            "        [0.1378, 0.1851]])\n",
            "tensor([0.5169, 0.0539])\n",
            "tensor([[0.9481, 0.8472],\n",
            "        [0.9485, 0.7872],\n",
            "        [0.5169, 0.0539],\n",
            "        [0.4674, 0.9406],\n",
            "        [0.0683, 0.7038]])\n"
          ],
          "name": "stdout"
        }
      ]
    },
    {
      "cell_type": "markdown",
      "metadata": {
        "id": "KXj7edrbV74A"
      },
      "source": [
        "### Extract entry (0,0) of the matrix A and store it into a PYTHON NUMBER x"
      ]
    },
    {
      "cell_type": "code",
      "metadata": {
        "id": "ABVFfSmzV74B"
      },
      "source": [
        "x = A[0,0].item()"
      ],
      "execution_count": 32,
      "outputs": []
    },
    {
      "cell_type": "markdown",
      "metadata": {
        "id": "5LsitQKDV74F"
      },
      "source": [
        "### Let's download 60,000 gray scale pictures as well as their label. Each picture is 28 by 28 pixels."
      ]
    },
    {
      "cell_type": "code",
      "metadata": {
        "id": "0r2TLfkQV74G"
      },
      "source": [
        "\n",
        "import torchvision.datasets\n",
        "import torchvision.transforms as transforms\n",
        "\n",
        "trainset = torchvision.datasets.MNIST(root='./data_mnist',\n",
        "                                      train=True,\n",
        "                                      download=True,\n",
        "                                      transform=transforms.ToTensor()\n",
        "                                      )\n",
        "\n",
        "# Create two tensors containing all train data\n",
        "data = trainset.data\n",
        "label = trainset.targets\n"
      ],
      "execution_count": 35,
      "outputs": []
    },
    {
      "cell_type": "markdown",
      "metadata": {
        "id": "TQ0P_af1V74L"
      },
      "source": [
        "### Find the size of these two tensors"
      ]
    },
    {
      "cell_type": "code",
      "metadata": {
        "id": "pNP-A7l0V74M",
        "outputId": "f5dd24a2-17dd-4bcc-f9bd-264f75bf7d78",
        "colab": {
          "base_uri": "https://localhost:8080/"
        }
      },
      "source": [
        "print(data.size())\n",
        "print(label.size())"
      ],
      "execution_count": 37,
      "outputs": [
        {
          "output_type": "stream",
          "text": [
            "torch.Size([60000, 28, 28])\n",
            "torch.Size([60000])\n"
          ],
          "name": "stdout"
        }
      ]
    },
    {
      "cell_type": "markdown",
      "metadata": {
        "id": "kUgY-o5DV74P"
      },
      "source": [
        "### Print the first picture by slicing the data tensor. You will see the intensity of each pixel (a value between 0 and 255)"
      ]
    },
    {
      "cell_type": "code",
      "metadata": {
        "scrolled": false,
        "id": "9a0wd7XZV74Q",
        "outputId": "8f992129-b795-4ded-c3c5-ffd538c22592",
        "colab": {
          "base_uri": "https://localhost:8080/"
        }
      },
      "source": [
        "print(data[0])"
      ],
      "execution_count": 38,
      "outputs": [
        {
          "output_type": "stream",
          "text": [
            "tensor([[  0,   0,   0,   0,   0,   0,   0,   0,   0,   0,   0,   0,   0,   0,\n",
            "           0,   0,   0,   0,   0,   0,   0,   0,   0,   0,   0,   0,   0,   0],\n",
            "        [  0,   0,   0,   0,   0,   0,   0,   0,   0,   0,   0,   0,   0,   0,\n",
            "           0,   0,   0,   0,   0,   0,   0,   0,   0,   0,   0,   0,   0,   0],\n",
            "        [  0,   0,   0,   0,   0,   0,   0,   0,   0,   0,   0,   0,   0,   0,\n",
            "           0,   0,   0,   0,   0,   0,   0,   0,   0,   0,   0,   0,   0,   0],\n",
            "        [  0,   0,   0,   0,   0,   0,   0,   0,   0,   0,   0,   0,   0,   0,\n",
            "           0,   0,   0,   0,   0,   0,   0,   0,   0,   0,   0,   0,   0,   0],\n",
            "        [  0,   0,   0,   0,   0,   0,   0,   0,   0,   0,   0,   0,   0,   0,\n",
            "           0,   0,   0,   0,   0,   0,   0,   0,   0,   0,   0,   0,   0,   0],\n",
            "        [  0,   0,   0,   0,   0,   0,   0,   0,   0,   0,   0,   0,   3,  18,\n",
            "          18,  18, 126, 136, 175,  26, 166, 255, 247, 127,   0,   0,   0,   0],\n",
            "        [  0,   0,   0,   0,   0,   0,   0,   0,  30,  36,  94, 154, 170, 253,\n",
            "         253, 253, 253, 253, 225, 172, 253, 242, 195,  64,   0,   0,   0,   0],\n",
            "        [  0,   0,   0,   0,   0,   0,   0,  49, 238, 253, 253, 253, 253, 253,\n",
            "         253, 253, 253, 251,  93,  82,  82,  56,  39,   0,   0,   0,   0,   0],\n",
            "        [  0,   0,   0,   0,   0,   0,   0,  18, 219, 253, 253, 253, 253, 253,\n",
            "         198, 182, 247, 241,   0,   0,   0,   0,   0,   0,   0,   0,   0,   0],\n",
            "        [  0,   0,   0,   0,   0,   0,   0,   0,  80, 156, 107, 253, 253, 205,\n",
            "          11,   0,  43, 154,   0,   0,   0,   0,   0,   0,   0,   0,   0,   0],\n",
            "        [  0,   0,   0,   0,   0,   0,   0,   0,   0,  14,   1, 154, 253,  90,\n",
            "           0,   0,   0,   0,   0,   0,   0,   0,   0,   0,   0,   0,   0,   0],\n",
            "        [  0,   0,   0,   0,   0,   0,   0,   0,   0,   0,   0, 139, 253, 190,\n",
            "           2,   0,   0,   0,   0,   0,   0,   0,   0,   0,   0,   0,   0,   0],\n",
            "        [  0,   0,   0,   0,   0,   0,   0,   0,   0,   0,   0,  11, 190, 253,\n",
            "          70,   0,   0,   0,   0,   0,   0,   0,   0,   0,   0,   0,   0,   0],\n",
            "        [  0,   0,   0,   0,   0,   0,   0,   0,   0,   0,   0,   0,  35, 241,\n",
            "         225, 160, 108,   1,   0,   0,   0,   0,   0,   0,   0,   0,   0,   0],\n",
            "        [  0,   0,   0,   0,   0,   0,   0,   0,   0,   0,   0,   0,   0,  81,\n",
            "         240, 253, 253, 119,  25,   0,   0,   0,   0,   0,   0,   0,   0,   0],\n",
            "        [  0,   0,   0,   0,   0,   0,   0,   0,   0,   0,   0,   0,   0,   0,\n",
            "          45, 186, 253, 253, 150,  27,   0,   0,   0,   0,   0,   0,   0,   0],\n",
            "        [  0,   0,   0,   0,   0,   0,   0,   0,   0,   0,   0,   0,   0,   0,\n",
            "           0,  16,  93, 252, 253, 187,   0,   0,   0,   0,   0,   0,   0,   0],\n",
            "        [  0,   0,   0,   0,   0,   0,   0,   0,   0,   0,   0,   0,   0,   0,\n",
            "           0,   0,   0, 249, 253, 249,  64,   0,   0,   0,   0,   0,   0,   0],\n",
            "        [  0,   0,   0,   0,   0,   0,   0,   0,   0,   0,   0,   0,   0,   0,\n",
            "          46, 130, 183, 253, 253, 207,   2,   0,   0,   0,   0,   0,   0,   0],\n",
            "        [  0,   0,   0,   0,   0,   0,   0,   0,   0,   0,   0,   0,  39, 148,\n",
            "         229, 253, 253, 253, 250, 182,   0,   0,   0,   0,   0,   0,   0,   0],\n",
            "        [  0,   0,   0,   0,   0,   0,   0,   0,   0,   0,  24, 114, 221, 253,\n",
            "         253, 253, 253, 201,  78,   0,   0,   0,   0,   0,   0,   0,   0,   0],\n",
            "        [  0,   0,   0,   0,   0,   0,   0,   0,  23,  66, 213, 253, 253, 253,\n",
            "         253, 198,  81,   2,   0,   0,   0,   0,   0,   0,   0,   0,   0,   0],\n",
            "        [  0,   0,   0,   0,   0,   0,  18, 171, 219, 253, 253, 253, 253, 195,\n",
            "          80,   9,   0,   0,   0,   0,   0,   0,   0,   0,   0,   0,   0,   0],\n",
            "        [  0,   0,   0,   0,  55, 172, 226, 253, 253, 253, 253, 244, 133,  11,\n",
            "           0,   0,   0,   0,   0,   0,   0,   0,   0,   0,   0,   0,   0,   0],\n",
            "        [  0,   0,   0,   0, 136, 253, 253, 253, 212, 135, 132,  16,   0,   0,\n",
            "           0,   0,   0,   0,   0,   0,   0,   0,   0,   0,   0,   0,   0,   0],\n",
            "        [  0,   0,   0,   0,   0,   0,   0,   0,   0,   0,   0,   0,   0,   0,\n",
            "           0,   0,   0,   0,   0,   0,   0,   0,   0,   0,   0,   0,   0,   0],\n",
            "        [  0,   0,   0,   0,   0,   0,   0,   0,   0,   0,   0,   0,   0,   0,\n",
            "           0,   0,   0,   0,   0,   0,   0,   0,   0,   0,   0,   0,   0,   0],\n",
            "        [  0,   0,   0,   0,   0,   0,   0,   0,   0,   0,   0,   0,   0,   0,\n",
            "           0,   0,   0,   0,   0,   0,   0,   0,   0,   0,   0,   0,   0,   0]],\n",
            "       dtype=torch.uint8)\n"
          ],
          "name": "stdout"
        }
      ]
    },
    {
      "cell_type": "markdown",
      "metadata": {
        "id": "P-H_QX3-V74S"
      },
      "source": [
        "### The function show() will display the picture:"
      ]
    },
    {
      "cell_type": "code",
      "metadata": {
        "id": "BWjQSjVEp-So"
      },
      "source": [
        "import numpy as np\n",
        "import matplotlib.pyplot as plt\n",
        "%matplotlib inline\n",
        "\n",
        "\n",
        "# Function to show an image tensor\n",
        "def show(X):\n",
        "    if X.dim() == 3 and X.size(2) == 3:\n",
        "        plt.imshow(X.numpy())\n",
        "        plt.show()\n",
        "    elif X.dim() == 2:\n",
        "        plt.imshow(   X.numpy() , cmap='gray'  )\n",
        "        plt.show()\n",
        "    else:\n",
        "        print('WRONG TENSOR SIZE')"
      ],
      "execution_count": 39,
      "outputs": []
    },
    {
      "cell_type": "code",
      "metadata": {
        "id": "ymHVBc8HV74T",
        "outputId": "4de98bb1-87c8-4915-88c9-77ff7a79f071",
        "colab": {
          "base_uri": "https://localhost:8080/",
          "height": 265
        }
      },
      "source": [
        "show(data[0])"
      ],
      "execution_count": 41,
      "outputs": [
        {
          "output_type": "display_data",
          "data": {
            "image/png": "[encoded data removed]",
            "text/plain": [
              "<Figure size 432x288 with 1 Axes>"
            ]
          },
          "metadata": {
            "tags": [],
            "needs_background": "light"
          }
        }
      ]
    },
    {
      "cell_type": "markdown",
      "metadata": {
        "id": "hfdT1ZjJV74V"
      },
      "source": [
        "### Print the first entry of the label vector. The label is 5 telling you that this is the picture of a five."
      ]
    },
    {
      "cell_type": "code",
      "metadata": {
        "id": "ho3VGxiqV74h",
        "outputId": "00120175-3c12-4c87-d792-a94a3e6d5bd3",
        "colab": {
          "base_uri": "https://localhost:8080/"
        }
      },
      "source": [
        "print(label[0].item())"
      ],
      "execution_count": 42,
      "outputs": [
        {
          "output_type": "stream",
          "text": [
            "5\n"
          ],
          "name": "stdout"
        }
      ]
    },
    {
      "cell_type": "markdown",
      "metadata": {
        "id": "kh7YAsIrV74j"
      },
      "source": [
        "### Display picture 20 of the dataset and print its label"
      ]
    },
    {
      "cell_type": "code",
      "metadata": {
        "id": "Fo6P2t-uV74k",
        "outputId": "0c8034bb-3080-4004-8b38-a8840e6e1785",
        "colab": {
          "base_uri": "https://localhost:8080/",
          "height": 282
        }
      },
      "source": [
        "show(data[20])\n",
        "print(label[20].item())"
      ],
      "execution_count": 44,
      "outputs": [
        {
          "output_type": "display_data",
          "data": {
            "image/png": "[encoded data removed]",
            "text/plain": [
              "<Figure size 432x288 with 1 Axes>"
            ]
          },
          "metadata": {
            "tags": [],
            "needs_background": "light"
          }
        },
        {
          "output_type": "stream",
          "text": [
            "4\n"
          ],
          "name": "stdout"
        }
      ]
    },
    {
      "cell_type": "markdown",
      "metadata": {
        "id": "sJTjXNlGV74m"
      },
      "source": [
        "### Print the label corresponding to picture 10,000  10,001 10,002  10,003 and 10,004. So you need to extract 5 entries starting from entry 10,000."
      ]
    },
    {
      "cell_type": "code",
      "metadata": {
        "id": "cwd4o8I0V74m",
        "outputId": "ffe1469a-ad58-41d4-b678-c3a64cd44c8b",
        "colab": {
          "base_uri": "https://localhost:8080/"
        }
      },
      "source": [
        "print(label[10000:10000+5])"
      ],
      "execution_count": 47,
      "outputs": [
        {
          "output_type": "stream",
          "text": [
            "tensor([3, 8, 7, 9, 9])\n"
          ],
          "name": "stdout"
        }
      ]
    },
    {
      "cell_type": "markdown",
      "metadata": {
        "id": "-KHXybA0V74p"
      },
      "source": [
        "### Display the two pictures that have label 9"
      ]
    },
    {
      "cell_type": "code",
      "metadata": {
        "id": "-ktwlGqBV74q",
        "outputId": "960a4ffb-cb75-49a8-f3c6-c08407d3e3ea",
        "colab": {
          "base_uri": "https://localhost:8080/",
          "height": 513
        }
      },
      "source": [
        "show(data[10003])\n",
        "show(data[10004])"
      ],
      "execution_count": 48,
      "outputs": [
        {
          "output_type": "display_data",
          "data": {
            "image/png": "[encoded data removed]",
            "text/plain": [
              "<Figure size 432x288 with 1 Axes>"
            ]
          },
          "metadata": {
            "tags": [],
            "needs_background": "light"
          }
        },
        {
          "output_type": "display_data",
          "data": {
            "image/png": "[encoded data removed]",
            "text/plain": [
              "<Figure size 432x288 with 1 Axes>"
            ]
          },
          "metadata": {
            "tags": [],
            "needs_background": "light"
          }
        }
      ]
    },
    {
      "cell_type": "markdown",
      "metadata": {
        "id": "uDbHDWOuV74t"
      },
      "source": [
        "### Lets now play with the CIFAR data set. These are RGB pictures"
      ]
    },
    {
      "cell_type": "code",
      "metadata": {
        "id": "dUfgYXrzV74u",
        "outputId": "8a476772-1772-40c7-86ea-0b1a1f18a372",
        "colab": {
          "base_uri": "https://localhost:8080/"
        }
      },
      "source": [
        "\n",
        "trainset = torchvision.datasets.CIFAR10(root='./data_cifar10',\n",
        "                                        train=True,\n",
        "                                        download=True)\n",
        "\n",
        "# Create two tensors containing all train data\n",
        "data = torch.from_numpy(trainset.data)\n",
        "label = torch.Tensor(trainset.targets)\n"
      ],
      "execution_count": 49,
      "outputs": [
        {
          "output_type": "stream",
          "text": [
            "Files already downloaded and verified\n"
          ],
          "name": "stdout"
        }
      ]
    },
    {
      "cell_type": "markdown",
      "metadata": {
        "id": "1wAjDYagV74v"
      },
      "source": [
        "### Find the size of these two tensors. How many pictures? How many pixels? Note that it is a 4-dimensional Tensor. Dimension 0 gives you the index of the picture, the next two dimensions give the pixel location and the last dimension gives you the channel (R, G or B).\n",
        "\n"
      ]
    },
    {
      "cell_type": "code",
      "metadata": {
        "id": "nrbJaJHBV74w",
        "outputId": "ae02729a-481f-4eaf-ed40-83c9f62b44ac",
        "colab": {
          "base_uri": "https://localhost:8080/"
        }
      },
      "source": [
        "print(data.size())\n",
        "print(label.size())"
      ],
      "execution_count": 50,
      "outputs": [
        {
          "output_type": "stream",
          "text": [
            "torch.Size([50000, 32, 32, 3])\n",
            "torch.Size([50000])\n"
          ],
          "name": "stdout"
        }
      ]
    },
    {
      "cell_type": "markdown",
      "metadata": {
        "id": "eEkVyCCYV74y"
      },
      "source": [
        "### Extract the first picture (a 32 x 32 x 3 Tensor) and check its size."
      ]
    },
    {
      "cell_type": "code",
      "metadata": {
        "id": "DQjc_F8bV74y",
        "outputId": "f06a6d3f-0e49-4778-ac04-83c017bf0c79",
        "colab": {
          "base_uri": "https://localhost:8080/"
        }
      },
      "source": [
        "print(data[0].size())"
      ],
      "execution_count": 52,
      "outputs": [
        {
          "output_type": "stream",
          "text": [
            "torch.Size([32, 32, 3])\n"
          ],
          "name": "stdout"
        }
      ]
    },
    {
      "cell_type": "markdown",
      "metadata": {
        "id": "bY-VO12rV740"
      },
      "source": [
        "### Display picture 7, 40 and 100 of the data set with utils.show() and print its label. For CIFAR, the label are:\n",
        "0) Airplane  \n",
        "1) Automobile   \n",
        "2) Bird   \n",
        "3) Cat   \n",
        "4) Deer   \n",
        "5) Dog    \n",
        "6) Frog  \n",
        "7) Horse   \n",
        "8) Ship    \n",
        "9) Truck\n",
        "\n",
        "For example, a picture of a dog will have label 5."
      ]
    },
    {
      "cell_type": "code",
      "metadata": {
        "id": "pU-CLmrfV741",
        "outputId": "72a55ba4-d3e6-4b55-98af-fc48a89ec652",
        "colab": {
          "base_uri": "https://localhost:8080/",
          "height": 814
        }
      },
      "source": [
        "lbls = ['Airplane','Automobile','Bird','Cat','Deer','Dog','Frog','Horse','Ship','Truck']\n",
        "show(data[7])\n",
        "print(lbls[int(label[7].item())])\n",
        "show(data[40])\n",
        "print(lbls[int(label[40].item())])\n",
        "show(data[100])\n",
        "print(lbls[int(label[100].item())])"
      ],
      "execution_count": 55,
      "outputs": [
        {
          "output_type": "display_data",
          "data": {
            "image/png": "[encoded data removed]",
            "text/plain": [
              "<Figure size 432x288 with 1 Axes>"
            ]
          },
          "metadata": {
            "tags": [],
            "needs_background": "light"
          }
        },
        {
          "output_type": "stream",
          "text": [
            "Horse\n"
          ],
          "name": "stdout"
        },
        {
          "output_type": "display_data",
          "data": {
            "image/png": "[encoded data removed]",
            "text/plain": [
              "<Figure size 432x288 with 1 Axes>"
            ]
          },
          "metadata": {
            "tags": [],
            "needs_background": "light"
          }
        },
        {
          "output_type": "stream",
          "text": [
            "Dog\n"
          ],
          "name": "stdout"
        },
        {
          "output_type": "display_data",
          "data": {
            "image/png": "[encoded data removed]",
            "text/plain": [
              "<Figure size 432x288 with 1 Axes>"
            ]
          },
          "metadata": {
            "tags": [],
            "needs_background": "light"
          }
        },
        {
          "output_type": "stream",
          "text": [
            "Ship\n"
          ],
          "name": "stdout"
        }
      ]
    },
    {
      "cell_type": "code",
      "metadata": {
        "id": "9G4M_Hp--h2d"
      },
      "source": [
        ""
      ],
      "execution_count": null,
      "outputs": []
    }
  ]
}