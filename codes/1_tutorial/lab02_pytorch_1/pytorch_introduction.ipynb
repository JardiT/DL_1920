{
  "nbformat": 4,
  "nbformat_minor": 0,
  "metadata": {
    "kernelspec": {
      "display_name": "Python 3",
      "language": "python",
      "name": "python3"
    },
    "language_info": {
      "codemirror_mode": {
        "name": "ipython",
        "version": 3
      },
      "file_extension": ".py",
      "mimetype": "text/x-python",
      "name": "python",
      "nbconvert_exporter": "python",
      "pygments_lexer": "ipython3",
      "version": "3.6.6"
    },
    "colab": {
      "name": "pytorch_introduction.ipynb",
      "provenance": [],
      "collapsed_sections": [
        "l3772pnMRUeu",
        "U2gvb1hJRUev",
        "C3cMGdfSRUe_",
        "3VPyk9yJRUfN",
        "cM5h15tKRUfZ",
        "R3B5FOc3RUfc",
        "ncpqsSZhRUfp",
        "_DJQsYapRUfx",
        "lOrL__gbRUfy",
        "S7xCpmjfRUf5",
        "BaoTIlBKRUf9",
        "U_WCo-94RUgA",
        "oHAmWZIDRUgM",
        "6Ba19OkvRUgY",
        "5NGKPw1LRUgk",
        "t73QormcRUgt",
        "3x_qGGIVS89B",
        "UaIhgGKoTM5a",
        "fBs9VqCMTX3l",
        "bKU6uHw0TnHG",
        "0HTiXk1ETw_E"
      ]
    }
  },
  "cells": [
    {
      "cell_type": "markdown",
      "metadata": {
        "id": "_Y3bhc1_RUd9"
      },
      "source": [
        "# Introduction to PyTorch  "
      ]
    },
    {
      "cell_type": "code",
      "metadata": {
        "id": "uxGwVgVqRUeB"
      },
      "source": [
        "import torch"
      ],
      "execution_count": 1,
      "outputs": []
    },
    {
      "cell_type": "markdown",
      "metadata": {
        "id": "bJbsT0OtSj5Q"
      },
      "source": [
        "## Code examples"
      ]
    },
    {
      "cell_type": "markdown",
      "metadata": {
        "id": "_m7zmbjURUeI"
      },
      "source": [
        "### Construct a vector of 3 elements"
      ]
    },
    {
      "cell_type": "code",
      "metadata": {
        "id": "1t5tALOcRUeL",
        "outputId": "3e7e5daa-62dd-4a07-b8ba-d44d4d8607fa",
        "colab": {
          "base_uri": "https://localhost:8080/"
        }
      },
      "source": [
        "x=torch.Tensor( [5.3 , 2.1 , -3.1 ] )\n",
        "print(x)"
      ],
      "execution_count": 2,
      "outputs": [
        {
          "output_type": "stream",
          "text": [
            "tensor([ 5.3000,  2.1000, -3.1000])\n"
          ],
          "name": "stdout"
        }
      ]
    },
    {
      "cell_type": "markdown",
      "metadata": {
        "id": "ohbtJNXdRUeR"
      },
      "source": [
        "### Construct a  2 x 2 matrix"
      ]
    },
    {
      "cell_type": "code",
      "metadata": {
        "id": "C0AOJDOMRUeT",
        "outputId": "b49e85c4-5abe-41c2-c171-4985b9a8ea8e",
        "colab": {
          "base_uri": "https://localhost:8080/"
        }
      },
      "source": [
        "A=torch.Tensor( [ [5.3,2.1] , [0.2,2.1] ] )\n",
        "print(A)"
      ],
      "execution_count": 3,
      "outputs": [
        {
          "output_type": "stream",
          "text": [
            "tensor([[5.3000, 2.1000],\n",
            "        [0.2000, 2.1000]])\n"
          ],
          "name": "stdout"
        }
      ]
    },
    {
      "cell_type": "markdown",
      "metadata": {
        "id": "nKcPsoYrRUeX"
      },
      "source": [
        "### Construct a random 10 x 2 matrix"
      ]
    },
    {
      "cell_type": "code",
      "metadata": {
        "id": "dDnjQMiCRUeY",
        "outputId": "2d98180b-55ec-4967-b494-00085fb2859b",
        "colab": {
          "base_uri": "https://localhost:8080/"
        }
      },
      "source": [
        "A=torch.rand(10,2)\n",
        "print(A)"
      ],
      "execution_count": 4,
      "outputs": [
        {
          "output_type": "stream",
          "text": [
            "tensor([[0.7726, 0.2833],\n",
            "        [0.6680, 0.8823],\n",
            "        [0.3692, 0.0787],\n",
            "        [0.4823, 0.6398],\n",
            "        [0.7384, 0.3646],\n",
            "        [0.6558, 0.5927],\n",
            "        [0.8253, 0.2452],\n",
            "        [0.8744, 0.9169],\n",
            "        [0.1971, 0.9367],\n",
            "        [0.3534, 0.1316]])\n"
          ],
          "name": "stdout"
        }
      ]
    },
    {
      "cell_type": "markdown",
      "metadata": {
        "id": "TmY7FfgsRUed"
      },
      "source": [
        "### Construct a 10 x 2 matrix filled with zeros"
      ]
    },
    {
      "cell_type": "code",
      "metadata": {
        "id": "5RrpAFKHRUee",
        "outputId": "f1eba125-c2b3-41fa-fc7e-727d722267af",
        "colab": {
          "base_uri": "https://localhost:8080/"
        }
      },
      "source": [
        "A=torch.zeros(10,2)\n",
        "print(A)"
      ],
      "execution_count": 5,
      "outputs": [
        {
          "output_type": "stream",
          "text": [
            "tensor([[0., 0.],\n",
            "        [0., 0.],\n",
            "        [0., 0.],\n",
            "        [0., 0.],\n",
            "        [0., 0.],\n",
            "        [0., 0.],\n",
            "        [0., 0.],\n",
            "        [0., 0.],\n",
            "        [0., 0.],\n",
            "        [0., 0.]])\n"
          ],
          "name": "stdout"
        }
      ]
    },
    {
      "cell_type": "markdown",
      "metadata": {
        "id": "UIF4ZtgmRUeh"
      },
      "source": [
        "### Construct a 5 x 2 x 2 random Tensor "
      ]
    },
    {
      "cell_type": "code",
      "metadata": {
        "id": "cKC0Se_NRUei",
        "outputId": "9608d067-303e-4775-a929-172c85da5764",
        "colab": {
          "base_uri": "https://localhost:8080/"
        }
      },
      "source": [
        "B = torch.rand(5,2,2)\n",
        "print(B)"
      ],
      "execution_count": 6,
      "outputs": [
        {
          "output_type": "stream",
          "text": [
            "tensor([[[0.4576, 0.3540],\n",
            "         [0.1967, 0.9061]],\n",
            "\n",
            "        [[0.8965, 0.8699],\n",
            "         [0.8067, 0.1370]],\n",
            "\n",
            "        [[0.8025, 0.8915],\n",
            "         [0.6548, 0.1652]],\n",
            "\n",
            "        [[0.7267, 0.0938],\n",
            "         [0.7145, 0.4816]],\n",
            "\n",
            "        [[0.0422, 0.8449],\n",
            "         [0.8759, 0.2855]]])\n"
          ],
          "name": "stdout"
        }
      ]
    },
    {
      "cell_type": "code",
      "metadata": {
        "id": "QT0xI7vuRUel",
        "outputId": "74354f98-ff0f-4f66-c4e9-a78a22d7ee03",
        "colab": {
          "base_uri": "https://localhost:8080/"
        }
      },
      "source": [
        "B.size()"
      ],
      "execution_count": 7,
      "outputs": [
        {
          "output_type": "execute_result",
          "data": {
            "text/plain": [
              "torch.Size([5, 2, 2])"
            ]
          },
          "metadata": {
            "tags": []
          },
          "execution_count": 7
        }
      ]
    },
    {
      "cell_type": "code",
      "metadata": {
        "id": "ebisZvBCRUer",
        "outputId": "3a38c1d2-8cc7-41ab-a8b1-b709f03c89d7",
        "colab": {
          "base_uri": "https://localhost:8080/"
        }
      },
      "source": [
        "B.dim()"
      ],
      "execution_count": 8,
      "outputs": [
        {
          "output_type": "execute_result",
          "data": {
            "text/plain": [
              "3"
            ]
          },
          "metadata": {
            "tags": []
          },
          "execution_count": 8
        }
      ]
    },
    {
      "cell_type": "markdown",
      "metadata": {
        "id": "l3772pnMRUeu"
      },
      "source": [
        "### Size and Dimension of a Tensor "
      ]
    },
    {
      "cell_type": "markdown",
      "metadata": {
        "id": "U2gvb1hJRUev"
      },
      "source": [
        "#### A 3-dimensional Tensor "
      ]
    },
    {
      "cell_type": "code",
      "metadata": {
        "id": "dxWE9xG0RUew",
        "outputId": "0564875c-88da-40ec-c195-9f2d6942c6ee",
        "colab": {
          "base_uri": "https://localhost:8080/"
        }
      },
      "source": [
        "A=torch.rand(3,2,2)\n",
        "print(A)"
      ],
      "execution_count": 9,
      "outputs": [
        {
          "output_type": "stream",
          "text": [
            "tensor([[[0.7768, 0.3727],\n",
            "         [0.4909, 0.6570]],\n",
            "\n",
            "        [[0.9544, 0.2960],\n",
            "         [0.0708, 0.3888]],\n",
            "\n",
            "        [[0.6493, 0.7254],\n",
            "         [0.4242, 0.8061]]])\n"
          ],
          "name": "stdout"
        }
      ]
    },
    {
      "cell_type": "code",
      "metadata": {
        "id": "dxR9xXaWRUez",
        "outputId": "b64d8800-bf19-4c0b-9c55-ef118a77e3cf",
        "colab": {
          "base_uri": "https://localhost:8080/"
        }
      },
      "source": [
        "print(  A.dim()   )"
      ],
      "execution_count": 10,
      "outputs": [
        {
          "output_type": "stream",
          "text": [
            "3\n"
          ],
          "name": "stdout"
        }
      ]
    },
    {
      "cell_type": "code",
      "metadata": {
        "id": "Otmpc1RpRUe3",
        "outputId": "5ae7b42b-1ef1-4a8c-88fd-8827fd32e418",
        "colab": {
          "base_uri": "https://localhost:8080/"
        }
      },
      "source": [
        "print(  A.size()   )"
      ],
      "execution_count": 11,
      "outputs": [
        {
          "output_type": "stream",
          "text": [
            "torch.Size([3, 2, 2])\n"
          ],
          "name": "stdout"
        }
      ]
    },
    {
      "cell_type": "code",
      "metadata": {
        "id": "0NUBloMkRUe8",
        "outputId": "4a639dbb-866a-4c4a-8d4a-cf98cc6c907a",
        "colab": {
          "base_uri": "https://localhost:8080/"
        }
      },
      "source": [
        "print(  A.size(0)  )"
      ],
      "execution_count": 12,
      "outputs": [
        {
          "output_type": "stream",
          "text": [
            "3\n"
          ],
          "name": "stdout"
        }
      ]
    },
    {
      "cell_type": "markdown",
      "metadata": {
        "id": "C3cMGdfSRUe_"
      },
      "source": [
        "#### A 2-dimensional Tensor "
      ]
    },
    {
      "cell_type": "code",
      "metadata": {
        "id": "MyJkW5e8RUfA",
        "outputId": "f2b0ab2b-1184-428e-a2c7-b78abe077517",
        "colab": {
          "base_uri": "https://localhost:8080/"
        }
      },
      "source": [
        "B=torch.rand(3,5)\n",
        "print(B)"
      ],
      "execution_count": 13,
      "outputs": [
        {
          "output_type": "stream",
          "text": [
            "tensor([[0.3622, 0.0469, 0.9166, 0.2912, 0.4488],\n",
            "        [0.6072, 0.3522, 0.7803, 0.1210, 0.7523],\n",
            "        [0.2143, 0.8659, 0.2424, 0.5141, 0.3843]])\n"
          ],
          "name": "stdout"
        }
      ]
    },
    {
      "cell_type": "code",
      "metadata": {
        "id": "bd4tPw_DRUfC",
        "outputId": "f427a84b-1803-49e0-cb49-f3192d2bdfaa",
        "colab": {
          "base_uri": "https://localhost:8080/"
        }
      },
      "source": [
        "print( B.dim()  )"
      ],
      "execution_count": 14,
      "outputs": [
        {
          "output_type": "stream",
          "text": [
            "2\n"
          ],
          "name": "stdout"
        }
      ]
    },
    {
      "cell_type": "code",
      "metadata": {
        "id": "tJ85joaFRUfF",
        "outputId": "7e5b2d58-2c7f-4a54-8fc5-2bb1d49de677",
        "colab": {
          "base_uri": "https://localhost:8080/"
        }
      },
      "source": [
        "print( B.size()  )"
      ],
      "execution_count": 15,
      "outputs": [
        {
          "output_type": "stream",
          "text": [
            "torch.Size([3, 5])\n"
          ],
          "name": "stdout"
        }
      ]
    },
    {
      "cell_type": "code",
      "metadata": {
        "id": "riTb4UT6RUfH",
        "outputId": "5af9dfb7-cef4-434f-dbd8-5400949dbd83",
        "colab": {
          "base_uri": "https://localhost:8080/"
        }
      },
      "source": [
        "print( B.size(0) )"
      ],
      "execution_count": 16,
      "outputs": [
        {
          "output_type": "stream",
          "text": [
            "3\n"
          ],
          "name": "stdout"
        }
      ]
    },
    {
      "cell_type": "code",
      "metadata": {
        "id": "O-ujGNxQRUfK",
        "outputId": "d98a56fb-b468-418f-f449-8344052dec3a",
        "colab": {
          "base_uri": "https://localhost:8080/"
        }
      },
      "source": [
        "print( B.size(1) )"
      ],
      "execution_count": 17,
      "outputs": [
        {
          "output_type": "stream",
          "text": [
            "5\n"
          ],
          "name": "stdout"
        }
      ]
    },
    {
      "cell_type": "markdown",
      "metadata": {
        "id": "3VPyk9yJRUfN"
      },
      "source": [
        "#### A 1-dimensional Tensor"
      ]
    },
    {
      "cell_type": "code",
      "metadata": {
        "id": "uFWOaoVJRUfQ",
        "outputId": "dd5dc2c9-a1de-403a-d07e-2b9167016ebe",
        "colab": {
          "base_uri": "https://localhost:8080/"
        }
      },
      "source": [
        "x=torch.rand(7)\n",
        "print(x)"
      ],
      "execution_count": 18,
      "outputs": [
        {
          "output_type": "stream",
          "text": [
            "tensor([0.8064, 0.0922, 0.7600, 0.1740, 0.6124, 0.6438, 0.2687])\n"
          ],
          "name": "stdout"
        }
      ]
    },
    {
      "cell_type": "code",
      "metadata": {
        "id": "SGUmRxRhRUfT",
        "outputId": "00a57aa0-4f7e-4200-db5f-e15dea1eb870",
        "colab": {
          "base_uri": "https://localhost:8080/"
        }
      },
      "source": [
        "print( x.dim() )"
      ],
      "execution_count": 19,
      "outputs": [
        {
          "output_type": "stream",
          "text": [
            "1\n"
          ],
          "name": "stdout"
        }
      ]
    },
    {
      "cell_type": "code",
      "metadata": {
        "id": "m0by1vHmRUfW",
        "outputId": "1d114008-9dbe-4b4d-af7b-ee0f64faa64a",
        "colab": {
          "base_uri": "https://localhost:8080/"
        }
      },
      "source": [
        "print( x.size() )"
      ],
      "execution_count": 20,
      "outputs": [
        {
          "output_type": "stream",
          "text": [
            "torch.Size([7])\n"
          ],
          "name": "stdout"
        }
      ]
    },
    {
      "cell_type": "markdown",
      "metadata": {
        "id": "cM5h15tKRUfZ"
      },
      "source": [
        "### Adding and multiplying tensors"
      ]
    },
    {
      "cell_type": "code",
      "metadata": {
        "id": "1o-BSmP-RUfZ",
        "outputId": "eb1e1281-d5fe-4ca8-a692-e22a0da60060",
        "colab": {
          "base_uri": "https://localhost:8080/"
        }
      },
      "source": [
        "A=torch.rand(2,2)\n",
        "B=torch.rand(2,2)\n",
        "\n",
        "C=2*B\n",
        "D=A+C\n",
        "E=A*B\n",
        "\n",
        "print(A)\n",
        "print('')\n",
        "print(B)\n",
        "print('')\n",
        "print(C)\n",
        "print('')\n",
        "print(C)\n",
        "print('')\n",
        "print(E)"
      ],
      "execution_count": 21,
      "outputs": [
        {
          "output_type": "stream",
          "text": [
            "tensor([[0.0648, 0.1701],\n",
            "        [0.5181, 0.4922]])\n",
            "\n",
            "tensor([[0.1946, 0.4514],\n",
            "        [0.6291, 0.6935]])\n",
            "\n",
            "tensor([[0.3892, 0.9027],\n",
            "        [1.2583, 1.3869]])\n",
            "\n",
            "tensor([[0.3892, 0.9027],\n",
            "        [1.2583, 1.3869]])\n",
            "\n",
            "tensor([[0.0126, 0.0768],\n",
            "        [0.3259, 0.3413]])\n"
          ],
          "name": "stdout"
        }
      ]
    },
    {
      "cell_type": "markdown",
      "metadata": {
        "id": "R3B5FOc3RUfc"
      },
      "source": [
        "### Floats versus integers"
      ]
    },
    {
      "cell_type": "code",
      "metadata": {
        "id": "5qlrpFJmRUfd",
        "outputId": "0ae68ca0-2fa1-44a0-b375-58c1998ae0ff",
        "colab": {
          "base_uri": "https://localhost:8080/"
        }
      },
      "source": [
        "x=torch.Tensor([1.2 , 2.5])\n",
        "print(x)\n",
        "print(x.type())"
      ],
      "execution_count": 22,
      "outputs": [
        {
          "output_type": "stream",
          "text": [
            "tensor([1.2000, 2.5000])\n",
            "torch.FloatTensor\n"
          ],
          "name": "stdout"
        }
      ]
    },
    {
      "cell_type": "code",
      "metadata": {
        "id": "Ctx6X5BqRUfh",
        "outputId": "ae5e6ec1-2511-4d56-8c68-c12bc6f3fef0",
        "colab": {
          "base_uri": "https://localhost:8080/"
        }
      },
      "source": [
        "y=torch.LongTensor([5,6])\n",
        "print(y)\n",
        "print(y.type())"
      ],
      "execution_count": 23,
      "outputs": [
        {
          "output_type": "stream",
          "text": [
            "tensor([5, 6])\n",
            "torch.LongTensor\n"
          ],
          "name": "stdout"
        }
      ]
    },
    {
      "cell_type": "code",
      "metadata": {
        "id": "-Ila6046RUfj",
        "outputId": "bfbf60db-40b3-44d6-d079-d9a11c869567",
        "colab": {
          "base_uri": "https://localhost:8080/"
        }
      },
      "source": [
        "y=y.float()\n",
        "print(y)\n",
        "print(y.type())"
      ],
      "execution_count": 24,
      "outputs": [
        {
          "output_type": "stream",
          "text": [
            "tensor([5., 6.])\n",
            "torch.FloatTensor\n"
          ],
          "name": "stdout"
        }
      ]
    },
    {
      "cell_type": "code",
      "metadata": {
        "id": "Ww63XUc9RUfn",
        "outputId": "ba64c9ff-96b0-4adb-d5ac-e4af36f5601a",
        "colab": {
          "base_uri": "https://localhost:8080/"
        }
      },
      "source": [
        "x=x.long()\n",
        "print(x)\n",
        "print(x.type())"
      ],
      "execution_count": 25,
      "outputs": [
        {
          "output_type": "stream",
          "text": [
            "tensor([1, 2])\n",
            "torch.LongTensor\n"
          ],
          "name": "stdout"
        }
      ]
    },
    {
      "cell_type": "markdown",
      "metadata": {
        "id": "ncpqsSZhRUfp"
      },
      "source": [
        "### Other functions"
      ]
    },
    {
      "cell_type": "code",
      "metadata": {
        "id": "3byxVIJtRUfp",
        "outputId": "1b9a3dad-805f-43b4-ba56-d6a1bfa9e945",
        "colab": {
          "base_uri": "https://localhost:8080/"
        }
      },
      "source": [
        "x=torch.arange(10)\n",
        "print(x)\n",
        "print(x.type())"
      ],
      "execution_count": 26,
      "outputs": [
        {
          "output_type": "stream",
          "text": [
            "tensor([0, 1, 2, 3, 4, 5, 6, 7, 8, 9])\n",
            "torch.LongTensor\n"
          ],
          "name": "stdout"
        }
      ]
    },
    {
      "cell_type": "code",
      "metadata": {
        "id": "NhdrmrXqRUfs",
        "outputId": "a8fbadcd-2c5e-4280-e331-7bf0a4414679",
        "colab": {
          "base_uri": "https://localhost:8080/"
        }
      },
      "source": [
        "x=torch.randperm(10)\n",
        "print(x)\n",
        "print(x.type())"
      ],
      "execution_count": 27,
      "outputs": [
        {
          "output_type": "stream",
          "text": [
            "tensor([9, 3, 1, 4, 0, 5, 6, 2, 7, 8])\n",
            "torch.LongTensor\n"
          ],
          "name": "stdout"
        }
      ]
    },
    {
      "cell_type": "code",
      "metadata": {
        "id": "v3IsVpw7RUfv",
        "outputId": "9dc09c35-ca07-48ac-aa01-04f66db8dce5",
        "colab": {
          "base_uri": "https://localhost:8080/"
        }
      },
      "source": [
        "x=torch.arange(10).long()\n",
        "print(x)\n",
        "print(x.type())"
      ],
      "execution_count": 28,
      "outputs": [
        {
          "output_type": "stream",
          "text": [
            "tensor([0, 1, 2, 3, 4, 5, 6, 7, 8, 9])\n",
            "torch.LongTensor\n"
          ],
          "name": "stdout"
        }
      ]
    },
    {
      "cell_type": "markdown",
      "metadata": {
        "id": "_DJQsYapRUfx"
      },
      "source": [
        "### Tips\n",
        "\n",
        "Check tensor sizes for algebra computations like multiplication torch.mm(X1,X2) with X1.size(), X2.size()\n",
        "\n",
        "Check tensor type for data manipulations with X.type()"
      ]
    },
    {
      "cell_type": "markdown",
      "metadata": {
        "id": "lOrL__gbRUfy"
      },
      "source": [
        "### Reshaping a tensor"
      ]
    },
    {
      "cell_type": "code",
      "metadata": {
        "id": "7ufLV9-FRUfy",
        "outputId": "373d0b86-29d6-4e5f-81fa-55bd382faafb",
        "colab": {
          "base_uri": "https://localhost:8080/"
        }
      },
      "source": [
        "x=torch.arange(10)\n",
        "print(x)"
      ],
      "execution_count": 29,
      "outputs": [
        {
          "output_type": "stream",
          "text": [
            "tensor([0, 1, 2, 3, 4, 5, 6, 7, 8, 9])\n"
          ],
          "name": "stdout"
        }
      ]
    },
    {
      "cell_type": "code",
      "metadata": {
        "id": "fYZl0mVQRUf0",
        "outputId": "3c44d0d0-6b1f-465c-b4d2-3c6fa8a002fb",
        "colab": {
          "base_uri": "https://localhost:8080/"
        }
      },
      "source": [
        "print( x.view(2,5) )"
      ],
      "execution_count": 30,
      "outputs": [
        {
          "output_type": "stream",
          "text": [
            "tensor([[0, 1, 2, 3, 4],\n",
            "        [5, 6, 7, 8, 9]])\n"
          ],
          "name": "stdout"
        }
      ]
    },
    {
      "cell_type": "code",
      "metadata": {
        "id": "9OZ-auNURUf4",
        "outputId": "3ab62de9-07ea-48af-be90-643906f03d5d",
        "colab": {
          "base_uri": "https://localhost:8080/"
        }
      },
      "source": [
        "print( x.view(5,2) )"
      ],
      "execution_count": 31,
      "outputs": [
        {
          "output_type": "stream",
          "text": [
            "tensor([[0, 1],\n",
            "        [2, 3],\n",
            "        [4, 5],\n",
            "        [6, 7],\n",
            "        [8, 9]])\n"
          ],
          "name": "stdout"
        }
      ]
    },
    {
      "cell_type": "markdown",
      "metadata": {
        "id": "S7xCpmjfRUf5"
      },
      "source": [
        "### Note that the original tensor x was NOT modified"
      ]
    },
    {
      "cell_type": "code",
      "metadata": {
        "id": "YZD8uteRRUf6",
        "outputId": "dca775f8-9da4-4be5-aee5-f1f719054c83",
        "colab": {
          "base_uri": "https://localhost:8080/"
        }
      },
      "source": [
        "print(x)"
      ],
      "execution_count": 32,
      "outputs": [
        {
          "output_type": "stream",
          "text": [
            "tensor([0, 1, 2, 3, 4, 5, 6, 7, 8, 9])\n"
          ],
          "name": "stdout"
        }
      ]
    },
    {
      "cell_type": "markdown",
      "metadata": {
        "id": "BaoTIlBKRUf9"
      },
      "source": [
        "### To make the change permanent you need to create a new tensor"
      ]
    },
    {
      "cell_type": "code",
      "metadata": {
        "id": "rtQcpbmTRUf-",
        "outputId": "fab7a392-4777-4175-bfe4-10d6975facd5",
        "colab": {
          "base_uri": "https://localhost:8080/"
        }
      },
      "source": [
        "y=x.view(5,2)\n",
        "\n",
        "print(x)\n",
        "print('')\n",
        "print(y)"
      ],
      "execution_count": 33,
      "outputs": [
        {
          "output_type": "stream",
          "text": [
            "tensor([0, 1, 2, 3, 4, 5, 6, 7, 8, 9])\n",
            "\n",
            "tensor([[0, 1],\n",
            "        [2, 3],\n",
            "        [4, 5],\n",
            "        [6, 7],\n",
            "        [8, 9]])\n"
          ],
          "name": "stdout"
        }
      ]
    },
    {
      "cell_type": "markdown",
      "metadata": {
        "id": "U_WCo-94RUgA"
      },
      "source": [
        "### Slicing a tensor"
      ]
    },
    {
      "cell_type": "code",
      "metadata": {
        "id": "kSoAXaLLRUgB",
        "outputId": "8578e87f-1619-47f3-a1bd-c4a37d032878",
        "colab": {
          "base_uri": "https://localhost:8080/"
        }
      },
      "source": [
        "print( y )"
      ],
      "execution_count": 34,
      "outputs": [
        {
          "output_type": "stream",
          "text": [
            "tensor([[0, 1],\n",
            "        [2, 3],\n",
            "        [4, 5],\n",
            "        [6, 7],\n",
            "        [8, 9]])\n"
          ],
          "name": "stdout"
        }
      ]
    },
    {
      "cell_type": "code",
      "metadata": {
        "id": "j7ZHjO29RUgD",
        "outputId": "653d29b6-5f5c-482e-f18e-4af8097c9889",
        "colab": {
          "base_uri": "https://localhost:8080/"
        }
      },
      "source": [
        "print( y[0] )"
      ],
      "execution_count": 35,
      "outputs": [
        {
          "output_type": "stream",
          "text": [
            "tensor([0, 1])\n"
          ],
          "name": "stdout"
        }
      ]
    },
    {
      "cell_type": "code",
      "metadata": {
        "id": "3eELBI5CRUgH",
        "outputId": "57a635f8-6840-418c-c356-09825d8d9e9b",
        "colab": {
          "base_uri": "https://localhost:8080/"
        }
      },
      "source": [
        "print( y[1] )"
      ],
      "execution_count": 36,
      "outputs": [
        {
          "output_type": "stream",
          "text": [
            "tensor([2, 3])\n"
          ],
          "name": "stdout"
        }
      ]
    },
    {
      "cell_type": "code",
      "metadata": {
        "id": "zZcnGhRyRUgK",
        "outputId": "75533b03-ebac-421f-bdc9-beaf4c89958e",
        "colab": {
          "base_uri": "https://localhost:8080/"
        }
      },
      "source": [
        "v = y[2]\n",
        "print(v)"
      ],
      "execution_count": 37,
      "outputs": [
        {
          "output_type": "stream",
          "text": [
            "tensor([4, 5])\n"
          ],
          "name": "stdout"
        }
      ]
    },
    {
      "cell_type": "markdown",
      "metadata": {
        "id": "oHAmWZIDRUgM"
      },
      "source": [
        "### Extract row 1 (included) to row 4 (excluded)"
      ]
    },
    {
      "cell_type": "code",
      "metadata": {
        "id": "waNd3hzxRUgN",
        "outputId": "687b2564-56ab-41dd-9d1f-e630e8b8c594",
        "colab": {
          "base_uri": "https://localhost:8080/"
        }
      },
      "source": [
        "print(y)"
      ],
      "execution_count": 38,
      "outputs": [
        {
          "output_type": "stream",
          "text": [
            "tensor([[0, 1],\n",
            "        [2, 3],\n",
            "        [4, 5],\n",
            "        [6, 7],\n",
            "        [8, 9]])\n"
          ],
          "name": "stdout"
        }
      ]
    },
    {
      "cell_type": "code",
      "metadata": {
        "id": "EHevZ8zURUgR",
        "outputId": "65e95d04-1ed5-493c-ebf9-db425885ff4d",
        "colab": {
          "base_uri": "https://localhost:8080/"
        }
      },
      "source": [
        "print( y[1:4] )"
      ],
      "execution_count": 39,
      "outputs": [
        {
          "output_type": "stream",
          "text": [
            "tensor([[2, 3],\n",
            "        [4, 5],\n",
            "        [6, 7]])\n"
          ],
          "name": "stdout"
        }
      ]
    },
    {
      "cell_type": "code",
      "metadata": {
        "id": "VNRLgk6QRUgW",
        "outputId": "c43af7c8-8865-4d14-ae21-679cee23c427",
        "colab": {
          "base_uri": "https://localhost:8080/"
        }
      },
      "source": [
        "idx = 1\n",
        "n=3\n",
        "\n",
        "print( y[idx:idx+n] )"
      ],
      "execution_count": 40,
      "outputs": [
        {
          "output_type": "stream",
          "text": [
            "tensor([[2, 3],\n",
            "        [4, 5],\n",
            "        [6, 7]])\n"
          ],
          "name": "stdout"
        }
      ]
    },
    {
      "cell_type": "markdown",
      "metadata": {
        "id": "6Ba19OkvRUgY"
      },
      "source": [
        "### Let check the sizes after slicing"
      ]
    },
    {
      "cell_type": "code",
      "metadata": {
        "id": "-i79qVj4RUgZ",
        "outputId": "bb308a47-e175-42db-b86c-a6b32b84bd19",
        "colab": {
          "base_uri": "https://localhost:8080/"
        }
      },
      "source": [
        "print(y)"
      ],
      "execution_count": 41,
      "outputs": [
        {
          "output_type": "stream",
          "text": [
            "tensor([[0, 1],\n",
            "        [2, 3],\n",
            "        [4, 5],\n",
            "        [6, 7],\n",
            "        [8, 9]])\n"
          ],
          "name": "stdout"
        }
      ]
    },
    {
      "cell_type": "code",
      "metadata": {
        "id": "7CFroUs_RUgb",
        "outputId": "7c99ce74-80f9-41a5-fba3-5f55f5a988fe",
        "colab": {
          "base_uri": "https://localhost:8080/"
        }
      },
      "source": [
        "z= y[1:1+3]\n",
        "print(z)\n",
        "\n",
        "print('')\n",
        "\n",
        "print('dimension=',z.dim())\n",
        "print(z.size())"
      ],
      "execution_count": 42,
      "outputs": [
        {
          "output_type": "stream",
          "text": [
            "tensor([[2, 3],\n",
            "        [4, 5],\n",
            "        [6, 7]])\n",
            "\n",
            "dimension= 2\n",
            "torch.Size([3, 2])\n"
          ],
          "name": "stdout"
        }
      ]
    },
    {
      "cell_type": "code",
      "metadata": {
        "id": "HYk-rt6wRUgg",
        "outputId": "5c68726b-610a-4b1e-db7f-f7edd392aa14",
        "colab": {
          "base_uri": "https://localhost:8080/"
        }
      },
      "source": [
        "v=y[1]\n",
        "print(v)\n",
        "\n",
        "print('')\n",
        "\n",
        "\n",
        "print('dimension=',v.dim())\n",
        "print(v.size())"
      ],
      "execution_count": 43,
      "outputs": [
        {
          "output_type": "stream",
          "text": [
            "tensor([2, 3])\n",
            "\n",
            "dimension= 1\n",
            "torch.Size([2])\n"
          ],
          "name": "stdout"
        }
      ]
    },
    {
      "cell_type": "markdown",
      "metadata": {
        "id": "5NGKPw1LRUgk"
      },
      "source": [
        "### Acessing the entries of a Tensor"
      ]
    },
    {
      "cell_type": "code",
      "metadata": {
        "id": "tzsuBan1RUgk",
        "outputId": "c8546eb5-a513-490a-f16c-c598900b17df",
        "colab": {
          "base_uri": "https://localhost:8080/"
        }
      },
      "source": [
        "print(y)"
      ],
      "execution_count": 44,
      "outputs": [
        {
          "output_type": "stream",
          "text": [
            "tensor([[0, 1],\n",
            "        [2, 3],\n",
            "        [4, 5],\n",
            "        [6, 7],\n",
            "        [8, 9]])\n"
          ],
          "name": "stdout"
        }
      ]
    },
    {
      "cell_type": "code",
      "metadata": {
        "id": "e0cIv31qRUgm",
        "outputId": "9d0b9495-89bb-41cf-eec6-72fff5ede7a4",
        "colab": {
          "base_uri": "https://localhost:8080/"
        }
      },
      "source": [
        "print(y)"
      ],
      "execution_count": 45,
      "outputs": [
        {
          "output_type": "stream",
          "text": [
            "tensor([[0, 1],\n",
            "        [2, 3],\n",
            "        [4, 5],\n",
            "        [6, 7],\n",
            "        [8, 9]])\n"
          ],
          "name": "stdout"
        }
      ]
    },
    {
      "cell_type": "code",
      "metadata": {
        "id": "bhHuHPQzRUgo",
        "outputId": "6ba58020-554d-47d3-e330-636aa999c49b",
        "colab": {
          "base_uri": "https://localhost:8080/"
        }
      },
      "source": [
        "a=y[4,0]\n",
        "print(a) # a is a scalar, not a tensor"
      ],
      "execution_count": 46,
      "outputs": [
        {
          "output_type": "stream",
          "text": [
            "tensor(8)\n"
          ],
          "name": "stdout"
        }
      ]
    },
    {
      "cell_type": "code",
      "metadata": {
        "id": "8H8mY4uGRUgr",
        "outputId": "faa55ecd-e2dc-4bb1-c0cb-7ceaffccd506",
        "colab": {
          "base_uri": "https://localhost:8080/"
        }
      },
      "source": [
        "print(a.dim())\n",
        "print(a.size())"
      ],
      "execution_count": 47,
      "outputs": [
        {
          "output_type": "stream",
          "text": [
            "0\n",
            "torch.Size([])\n"
          ],
          "name": "stdout"
        }
      ]
    },
    {
      "cell_type": "markdown",
      "metadata": {
        "id": "t73QormcRUgt"
      },
      "source": [
        "### A matrix is 2-dimensional Tensor\n",
        "### A row of a matrix is a 1-dimensional Tensor\n",
        "### An entry of a matrix is a 0-dimensional  Tensor\n",
        "\n",
        "### 0-dimensional Tensor are scalar!\n",
        "\n",
        "### If we want to convert a 0-dimensional Tensor into  python number, we need to use item()"
      ]
    },
    {
      "cell_type": "code",
      "metadata": {
        "id": "dIuB10eSRUgt",
        "outputId": "e0c32673-a89d-4169-b7d4-378bb9c29169",
        "colab": {
          "base_uri": "https://localhost:8080/"
        }
      },
      "source": [
        "b=a.item()\n",
        "print(a)\n",
        "print(type(a))\n",
        "print(b)\n",
        "print(type(b))"
      ],
      "execution_count": 48,
      "outputs": [
        {
          "output_type": "stream",
          "text": [
            "tensor(8)\n",
            "<class 'torch.Tensor'>\n",
            "8\n",
            "<class 'int'>\n"
          ],
          "name": "stdout"
        }
      ]
    },
    {
      "cell_type": "markdown",
      "metadata": {
        "id": "NJn-ZTrbS2F2"
      },
      "source": [
        ""
      ]
    },
    {
      "cell_type": "markdown",
      "metadata": {
        "id": "xwWT9kECS6ED"
      },
      "source": [
        "## Exercises"
      ]
    },
    {
      "cell_type": "markdown",
      "metadata": {
        "id": "3x_qGGIVS89B"
      },
      "source": [
        "### Make the matrices A and B below. Add them together to obtain a matrix C. Print these three matrices.\n",
        "$$\n",
        "A =\\begin{bmatrix}\n",
        "1 & 2 \\\\ 3 & 4\n",
        "\\end{bmatrix}  \n",
        "\\qquad \n",
        "B =\\begin{bmatrix}\n",
        "10 & 20 \\\\ 30 & 40\n",
        "\\end{bmatrix}  \\qquad C=A+B =?\n",
        "$$"
      ]
    },
    {
      "cell_type": "code",
      "metadata": {
        "id": "Ttyn8Q0xTKl2",
        "outputId": "692e0ffa-12e5-40ea-d977-9142b8252d8c",
        "colab": {
          "base_uri": "https://localhost:8080/"
        }
      },
      "source": [
        "# Write your code here\n",
        "A = torch.Tensor([[1,2],[3,4]])\n",
        "B = torch.Tensor([[10,20],[30,40]])\n",
        "C = A+B\n",
        "\n",
        "print(A)\n",
        "print(B)\n",
        "print(C)"
      ],
      "execution_count": 53,
      "outputs": [
        {
          "output_type": "stream",
          "text": [
            "tensor([[1., 2.],\n",
            "        [3., 4.]])\n",
            "tensor([[10., 20.],\n",
            "        [30., 40.]])\n",
            "tensor([[11., 22.],\n",
            "        [33., 44.]])\n"
          ],
          "name": "stdout"
        }
      ]
    },
    {
      "cell_type": "markdown",
      "metadata": {
        "id": "UaIhgGKoTM5a"
      },
      "source": [
        "### Print the dimension, size and type of the matrix A. Remember, the commands are dim(), size() and type()"
      ]
    },
    {
      "cell_type": "code",
      "metadata": {
        "id": "wKufXi4HTXpD",
        "outputId": "86c94e52-fe87-48db-eb60-d72a28fa8d57",
        "colab": {
          "base_uri": "https://localhost:8080/"
        }
      },
      "source": [
        "# Write your code here\n",
        "print(A.dim())\n",
        "print(A.size())\n",
        "print(A.type())"
      ],
      "execution_count": 54,
      "outputs": [
        {
          "output_type": "stream",
          "text": [
            "2\n",
            "torch.Size([2, 2])\n",
            "torch.FloatTensor\n"
          ],
          "name": "stdout"
        }
      ]
    },
    {
      "cell_type": "markdown",
      "metadata": {
        "id": "fBs9VqCMTX3l"
      },
      "source": [
        "### Convert the matrix A to be an integer matrix  (type LongTensor). Remember, the command is long(). Then print the type to check it was indeed converted."
      ]
    },
    {
      "cell_type": "code",
      "metadata": {
        "id": "6nxCFhJsTlN9",
        "outputId": "f6e33c6e-1887-49e8-b50e-cb1dde3243b3",
        "colab": {
          "base_uri": "https://localhost:8080/"
        }
      },
      "source": [
        "# Write your code here\n",
        "A = A.long()\n",
        "print(A.type())"
      ],
      "execution_count": 56,
      "outputs": [
        {
          "output_type": "stream",
          "text": [
            "torch.LongTensor\n"
          ],
          "name": "stdout"
        }
      ]
    },
    {
      "cell_type": "markdown",
      "metadata": {
        "id": "bKU6uHw0TnHG"
      },
      "source": [
        "### Make a random 5 x 2 x 3 Tensor. The command is torch.rand.  Then do the following:   1) Print the tensor,  2) Print its type, 3) Print its dimension,  4) Print its size, 5) Print the size of its middle dimension."
      ]
    },
    {
      "cell_type": "code",
      "metadata": {
        "id": "HRTw-25QTwtT",
        "outputId": "6176e821-7c7a-4fd2-cf91-3a52708ef2f7",
        "colab": {
          "base_uri": "https://localhost:8080/"
        }
      },
      "source": [
        "# Write your code here\n",
        "D = torch.rand(5,2,3)\n",
        "print(D)\n",
        "print(D.type())\n",
        "print(D.dim())\n",
        "print(D.size())\n",
        "print(D[0,:,0].size())"
      ],
      "execution_count": 60,
      "outputs": [
        {
          "output_type": "stream",
          "text": [
            "tensor([[[0.1188, 0.8583, 0.5364],\n",
            "         [0.2773, 0.9197, 0.7988]],\n",
            "\n",
            "        [[0.9489, 0.9308, 0.5226],\n",
            "         [0.1077, 0.7751, 0.2285]],\n",
            "\n",
            "        [[0.6085, 0.7273, 0.4251],\n",
            "         [0.3427, 0.9480, 0.7332]],\n",
            "\n",
            "        [[0.0585, 0.8533, 0.2829],\n",
            "         [0.9336, 0.1653, 0.4742]],\n",
            "\n",
            "        [[0.6239, 0.5677, 0.3762],\n",
            "         [0.9680, 0.5884, 0.2780]]])\n",
            "torch.FloatTensor\n",
            "3\n",
            "torch.Size([5, 2, 3])\n",
            "torch.Size([2])\n"
          ],
          "name": "stdout"
        }
      ]
    },
    {
      "cell_type": "markdown",
      "metadata": {
        "id": "0HTiXk1ETw_E"
      },
      "source": [
        "### Make 2 x 3 x 4 x 5 tensor filled with zeros then print it. (The command is torch.zeros). See if you can make sense of the display."
      ]
    },
    {
      "cell_type": "code",
      "metadata": {
        "id": "Piutu3HMT5f3",
        "outputId": "beb660e9-5646-4984-d674-17979b27ef05",
        "colab": {
          "base_uri": "https://localhost:8080/"
        }
      },
      "source": [
        "# Write your code here\n",
        "E = torch.zeros(2,3,4,5)\n",
        "print(E)"
      ],
      "execution_count": 61,
      "outputs": [
        {
          "output_type": "stream",
          "text": [
            "tensor([[[[0., 0., 0., 0., 0.],\n",
            "          [0., 0., 0., 0., 0.],\n",
            "          [0., 0., 0., 0., 0.],\n",
            "          [0., 0., 0., 0., 0.]],\n",
            "\n",
            "         [[0., 0., 0., 0., 0.],\n",
            "          [0., 0., 0., 0., 0.],\n",
            "          [0., 0., 0., 0., 0.],\n",
            "          [0., 0., 0., 0., 0.]],\n",
            "\n",
            "         [[0., 0., 0., 0., 0.],\n",
            "          [0., 0., 0., 0., 0.],\n",
            "          [0., 0., 0., 0., 0.],\n",
            "          [0., 0., 0., 0., 0.]]],\n",
            "\n",
            "\n",
            "        [[[0., 0., 0., 0., 0.],\n",
            "          [0., 0., 0., 0., 0.],\n",
            "          [0., 0., 0., 0., 0.],\n",
            "          [0., 0., 0., 0., 0.]],\n",
            "\n",
            "         [[0., 0., 0., 0., 0.],\n",
            "          [0., 0., 0., 0., 0.],\n",
            "          [0., 0., 0., 0., 0.],\n",
            "          [0., 0., 0., 0., 0.]],\n",
            "\n",
            "         [[0., 0., 0., 0., 0.],\n",
            "          [0., 0., 0., 0., 0.],\n",
            "          [0., 0., 0., 0., 0.],\n",
            "          [0., 0., 0., 0., 0.]]]])\n"
          ],
          "name": "stdout"
        }
      ]
    }
  ]
}